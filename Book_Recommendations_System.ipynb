{
  "nbformat": 4,
  "nbformat_minor": 0,
  "metadata": {
    "colab": {
      "name": "Book Recommendations System.ipynb",
      "provenance": [],
      "collapsed_sections": [],
      "mount_file_id": "1ALWA1MCzMv5M2Nm2jN6C9CTiFyCa4Th4",
      "authorship_tag": "ABX9TyN7IKfoiyt9flkzkXHxAtjB",
      "include_colab_link": true
    },
    "kernelspec": {
      "name": "python3",
      "display_name": "Python 3"
    },
    "language_info": {
      "name": "python"
    }
  },
  "cells": [
    {
      "cell_type": "markdown",
      "metadata": {
        "id": "view-in-github",
        "colab_type": "text"
      },
      "source": [
        "<a href=\"https://colab.research.google.com/github/avinashyadav11/Book-Recommendation/blob/main/Book_Recommendations_System.ipynb\" target=\"_parent\"><img src=\"https://colab.research.google.com/assets/colab-badge.svg\" alt=\"Open In Colab\"/></a>"
      ]
    },
    {
      "cell_type": "markdown",
      "source": [
        "# <b><u><font color='Maroon'>**BOOK RECOMMENDATION SYSTEM**</u></b>"
      ],
      "metadata": {
        "id": "G158t4jDRpfN"
      }
    },
    {
      "cell_type": "markdown",
      "source": [
        "## <font color='darkblue'>**Problem Statement**\n",
        "**During the last few decades, with the rise of Youtube, Amazon, Netflix, and many other such\n",
        "web services, recommender systems have taken more and more place in our lives. From\n",
        "e-commerce (suggest to buyers articles that could interest them) to online advertisement\n",
        "(suggest to users the right contents, matching their preferences), recommender systems are\n",
        "today unavoidable in our daily online journeys.**\n",
        "\n",
        "**In a very general way, recommender systems are algorithms aimed at suggesting relevant\n",
        "items to users (items being movies to watch, text to read, products to buy, or anything else\n",
        "depending on industries).**\n",
        "\n",
        "**Recommender systems are really critical in some industries as they can generate a huge\n",
        "amount of income when they are efficient or also be a way to stand out significantly from\n",
        "competitors. The main objective is to create a book recommendation system for users.**"
      ],
      "metadata": {
        "id": "ALYqxNcyR72r"
      }
    },
    {
      "cell_type": "code",
      "source": [
        "#Importing modules\n",
        "import pandas as pd\n",
        "import sys\n",
        "import numpy as np\n",
        "import matplotlib.pyplot as plt\n",
        "import seaborn as sns\n",
        "import random\n",
        "# This is to supress the warning messages (if any) generated in our code\n",
        "import warnings\n",
        "warnings.filterwarnings('ignore')"
      ],
      "metadata": {
        "id": "nKA27cMsRu1c"
      },
      "execution_count": 1,
      "outputs": []
    },
    {
      "cell_type": "markdown",
      "source": [
        "**The Book-Crossing dataset comprises 3 files.**\n",
        "\n",
        "**● Users**\n",
        "\n",
        "**Contains the users. Note that user IDs (User-ID) have been anonymized and map to\n",
        "integers. Demographic data is provided (Location, Age) if available. Otherwise, these fields contain NULL values.**\n",
        "\n",
        "**● Books**\n",
        "\n",
        "**Books are identified by their respective ISBN. Invalid ISBNs have already been removed from the dataset. Moreover, some content-based information is given (Book-Title, Book-Author, Year-Of-Publication, Publisher), obtained from Amazon Web Services. Note that in the case of several authors, only the first is provided. URLs linking to cover images are also given, appearing in three different flavors (Image-URL-S,Image-URL-M, Image-URL-L), i.e., small, medium, large. These URLs point to the Amazon website.**\n",
        "\n",
        "**● Ratings**\n",
        "\n",
        "**Contains the book rating information. Ratings (Book-Rating) are either explicit,\n",
        "expressed on a scale from 1-10 (higher values denoting higher appreciation), or implicit,\n",
        "expressed by 0.**"
      ],
      "metadata": {
        "id": "efBTv0N5Rpk8"
      }
    },
    {
      "cell_type": "code",
      "source": [
        "from google.colab import drive\n",
        "drive.mount('/content/drive')"
      ],
      "metadata": {
        "colab": {
          "base_uri": "https://localhost:8080/"
        },
        "id": "gqoDxMUVRxEb",
        "outputId": "c6b298ad-2ec8-4fc6-82eb-c9e4a7b88595"
      },
      "execution_count": 2,
      "outputs": [
        {
          "output_type": "stream",
          "name": "stdout",
          "text": [
            "Drive already mounted at /content/drive; to attempt to forcibly remount, call drive.mount(\"/content/drive\", force_remount=True).\n"
          ]
        }
      ]
    },
    {
      "cell_type": "code",
      "source": [
        "books= pd.read_csv('/content/drive/MyDrive/Colab Notebooks/Alma Better/Book Recommendation System/Books.csv', error_bad_lines=False,encoding=\"latin-1\")\n",
        "b1 = books.copy()"
      ],
      "metadata": {
        "id": "GB_h_t7kSc22"
      },
      "execution_count": 3,
      "outputs": []
    },
    {
      "cell_type": "code",
      "source": [
        "users = pd.read_csv('/content/drive/MyDrive/Colab Notebooks/Alma Better/Book Recommendation System/Users.csv' ,error_bad_lines=False, encoding=\"latin-1\")"
      ],
      "metadata": {
        "id": "xIyEfKmzSy7w"
      },
      "execution_count": 4,
      "outputs": []
    },
    {
      "cell_type": "code",
      "source": [
        "ratings =  pd.read_csv('/content/drive/MyDrive/Colab Notebooks/Alma Better/Book Recommendation System/Ratings.csv' ,error_bad_lines=False,encoding=\"latin-1\")"
      ],
      "metadata": {
        "id": "z4cf4vjTS8dS"
      },
      "execution_count": 6,
      "outputs": []
    },
    {
      "cell_type": "code",
      "source": [
        "# Let's store images URL in another dataset \n",
        "images = books\n",
        "images = images.drop(['ISBN', 'Book-Author', 'Year-Of-Publication', 'Publisher', 'Image-URL-S','Image-URL-L'], axis=1)"
      ],
      "metadata": {
        "id": "_49tQMy06AlH"
      },
      "execution_count": 7,
      "outputs": []
    },
    {
      "cell_type": "markdown",
      "source": [
        "### <font color='darkblue'>**Dimension of dataset**"
      ],
      "metadata": {
        "id": "P9So6F6eUL8S"
      }
    },
    {
      "cell_type": "code",
      "source": [
        "# dimension of dataset\n",
        "print(f'''\\t  Book_df shape is {books.shape}\n",
        "          Ratings_df shape is {ratings.shape}\n",
        "          Users_df shape is {users.shape}''')"
      ],
      "metadata": {
        "colab": {
          "base_uri": "https://localhost:8080/"
        },
        "id": "kTPM6_YLTBcf",
        "outputId": "72816018-c41f-4cfa-8747-321b96a845de"
      },
      "execution_count": 8,
      "outputs": [
        {
          "output_type": "stream",
          "name": "stdout",
          "text": [
            "\t  Book_df shape is (271360, 8)\n",
            "          Ratings_df shape is (1149780, 3)\n",
            "          Users_df shape is (278858, 3)\n"
          ]
        }
      ]
    },
    {
      "cell_type": "markdown",
      "source": [
        "### <font color='darkblue'>**1. Users Dataset**"
      ],
      "metadata": {
        "id": "Eu4MyZWYUSNy"
      }
    },
    {
      "cell_type": "code",
      "source": [
        "def missing_values(df):\n",
        "    mis_val=df.isnull().sum()\n",
        "    mis_val_percent=round(df.isnull().mean().mul(100),2)\n",
        "    mz_table=pd.concat([mis_val,mis_val_percent],axis=1)\n",
        "    mz_table=mz_table.rename(\n",
        "    columns={df.index.name:'col_name',0:'Missing Values',1:'% of Total Values'})\n",
        "    mz_table['Data_type']=df.dtypes\n",
        "    mz_table=mz_table.sort_values('% of Total Values',ascending=False)\n",
        "    return mz_table.reset_index()"
      ],
      "metadata": {
        "id": "ryaUJPzPUT91"
      },
      "execution_count": 9,
      "outputs": []
    },
    {
      "cell_type": "code",
      "source": [
        "missing_values(users)"
      ],
      "metadata": {
        "colab": {
          "base_uri": "https://localhost:8080/",
          "height": 143
        },
        "id": "Ck4O2gHWUUBj",
        "outputId": "423e588b-a532-4def-fd19-f9cdb68d6a7a"
      },
      "execution_count": 10,
      "outputs": [
        {
          "output_type": "execute_result",
          "data": {
            "text/plain": [
              "      index  Missing Values  % of Total Values Data_type\n",
              "0       Age          110762              39.72   float64\n",
              "1   User-ID               0               0.00     int64\n",
              "2  Location               0               0.00    object"
            ],
            "text/html": [
              "\n",
              "  <div id=\"df-e9806290-8785-4c7f-9df7-b27b66508a7a\">\n",
              "    <div class=\"colab-df-container\">\n",
              "      <div>\n",
              "<style scoped>\n",
              "    .dataframe tbody tr th:only-of-type {\n",
              "        vertical-align: middle;\n",
              "    }\n",
              "\n",
              "    .dataframe tbody tr th {\n",
              "        vertical-align: top;\n",
              "    }\n",
              "\n",
              "    .dataframe thead th {\n",
              "        text-align: right;\n",
              "    }\n",
              "</style>\n",
              "<table border=\"1\" class=\"dataframe\">\n",
              "  <thead>\n",
              "    <tr style=\"text-align: right;\">\n",
              "      <th></th>\n",
              "      <th>index</th>\n",
              "      <th>Missing Values</th>\n",
              "      <th>% of Total Values</th>\n",
              "      <th>Data_type</th>\n",
              "    </tr>\n",
              "  </thead>\n",
              "  <tbody>\n",
              "    <tr>\n",
              "      <th>0</th>\n",
              "      <td>Age</td>\n",
              "      <td>110762</td>\n",
              "      <td>39.72</td>\n",
              "      <td>float64</td>\n",
              "    </tr>\n",
              "    <tr>\n",
              "      <th>1</th>\n",
              "      <td>User-ID</td>\n",
              "      <td>0</td>\n",
              "      <td>0.00</td>\n",
              "      <td>int64</td>\n",
              "    </tr>\n",
              "    <tr>\n",
              "      <th>2</th>\n",
              "      <td>Location</td>\n",
              "      <td>0</td>\n",
              "      <td>0.00</td>\n",
              "      <td>object</td>\n",
              "    </tr>\n",
              "  </tbody>\n",
              "</table>\n",
              "</div>\n",
              "      <button class=\"colab-df-convert\" onclick=\"convertToInteractive('df-e9806290-8785-4c7f-9df7-b27b66508a7a')\"\n",
              "              title=\"Convert this dataframe to an interactive table.\"\n",
              "              style=\"display:none;\">\n",
              "        \n",
              "  <svg xmlns=\"http://www.w3.org/2000/svg\" height=\"24px\"viewBox=\"0 0 24 24\"\n",
              "       width=\"24px\">\n",
              "    <path d=\"M0 0h24v24H0V0z\" fill=\"none\"/>\n",
              "    <path d=\"M18.56 5.44l.94 2.06.94-2.06 2.06-.94-2.06-.94-.94-2.06-.94 2.06-2.06.94zm-11 1L8.5 8.5l.94-2.06 2.06-.94-2.06-.94L8.5 2.5l-.94 2.06-2.06.94zm10 10l.94 2.06.94-2.06 2.06-.94-2.06-.94-.94-2.06-.94 2.06-2.06.94z\"/><path d=\"M17.41 7.96l-1.37-1.37c-.4-.4-.92-.59-1.43-.59-.52 0-1.04.2-1.43.59L10.3 9.45l-7.72 7.72c-.78.78-.78 2.05 0 2.83L4 21.41c.39.39.9.59 1.41.59.51 0 1.02-.2 1.41-.59l7.78-7.78 2.81-2.81c.8-.78.8-2.07 0-2.86zM5.41 20L4 18.59l7.72-7.72 1.47 1.35L5.41 20z\"/>\n",
              "  </svg>\n",
              "      </button>\n",
              "      \n",
              "  <style>\n",
              "    .colab-df-container {\n",
              "      display:flex;\n",
              "      flex-wrap:wrap;\n",
              "      gap: 12px;\n",
              "    }\n",
              "\n",
              "    .colab-df-convert {\n",
              "      background-color: #E8F0FE;\n",
              "      border: none;\n",
              "      border-radius: 50%;\n",
              "      cursor: pointer;\n",
              "      display: none;\n",
              "      fill: #1967D2;\n",
              "      height: 32px;\n",
              "      padding: 0 0 0 0;\n",
              "      width: 32px;\n",
              "    }\n",
              "\n",
              "    .colab-df-convert:hover {\n",
              "      background-color: #E2EBFA;\n",
              "      box-shadow: 0px 1px 2px rgba(60, 64, 67, 0.3), 0px 1px 3px 1px rgba(60, 64, 67, 0.15);\n",
              "      fill: #174EA6;\n",
              "    }\n",
              "\n",
              "    [theme=dark] .colab-df-convert {\n",
              "      background-color: #3B4455;\n",
              "      fill: #D2E3FC;\n",
              "    }\n",
              "\n",
              "    [theme=dark] .colab-df-convert:hover {\n",
              "      background-color: #434B5C;\n",
              "      box-shadow: 0px 1px 3px 1px rgba(0, 0, 0, 0.15);\n",
              "      filter: drop-shadow(0px 1px 2px rgba(0, 0, 0, 0.3));\n",
              "      fill: #FFFFFF;\n",
              "    }\n",
              "  </style>\n",
              "\n",
              "      <script>\n",
              "        const buttonEl =\n",
              "          document.querySelector('#df-e9806290-8785-4c7f-9df7-b27b66508a7a button.colab-df-convert');\n",
              "        buttonEl.style.display =\n",
              "          google.colab.kernel.accessAllowed ? 'block' : 'none';\n",
              "\n",
              "        async function convertToInteractive(key) {\n",
              "          const element = document.querySelector('#df-e9806290-8785-4c7f-9df7-b27b66508a7a');\n",
              "          const dataTable =\n",
              "            await google.colab.kernel.invokeFunction('convertToInteractive',\n",
              "                                                     [key], {});\n",
              "          if (!dataTable) return;\n",
              "\n",
              "          const docLinkHtml = 'Like what you see? Visit the ' +\n",
              "            '<a target=\"_blank\" href=https://colab.research.google.com/notebooks/data_table.ipynb>data table notebook</a>'\n",
              "            + ' to learn more about interactive tables.';\n",
              "          element.innerHTML = '';\n",
              "          dataTable['output_type'] = 'display_data';\n",
              "          await google.colab.output.renderOutput(dataTable, element);\n",
              "          const docLink = document.createElement('div');\n",
              "          docLink.innerHTML = docLinkHtml;\n",
              "          element.appendChild(docLink);\n",
              "        }\n",
              "      </script>\n",
              "    </div>\n",
              "  </div>\n",
              "  "
            ]
          },
          "metadata": {},
          "execution_count": 10
        }
      ]
    },
    {
      "cell_type": "markdown",
      "source": [
        "<font color='black'>Age have around 39% missing values. "
      ],
      "metadata": {
        "id": "jAmgY0JEUcSI"
      }
    },
    {
      "cell_type": "markdown",
      "source": [
        "<font color='darkblue'>**Age Distribution**"
      ],
      "metadata": {
        "id": "MzWwX7t1Ue-s"
      }
    },
    {
      "cell_type": "code",
      "source": [
        "plt.style.use('fivethirtyeight')\n",
        "users.Age.hist(bins=[0, 10, 20, 30, 40, 50, 100])\n",
        "plt.title('Age Distribution\\n')\n",
        "plt.xlabel('Age')\n",
        "plt.ylabel('Count')\n",
        "plt.show()"
      ],
      "metadata": {
        "colab": {
          "base_uri": "https://localhost:8080/",
          "height": 347
        },
        "id": "blDenuuVUUFu",
        "outputId": "e5f27f0d-25a6-4aaa-aaf3-6e1df9709869"
      },
      "execution_count": 11,
      "outputs": [
        {
          "output_type": "display_data",
          "data": {
            "text/plain": [
              "<Figure size 432x288 with 1 Axes>"
            ],
            "image/png": "[encoded data removed]"
          },
          "metadata": {}
        }
      ]
    },
    {
      "cell_type": "markdown",
      "source": [
        "<font color='black'>The most active users are among those in their 20–30s."
      ],
      "metadata": {
        "id": "eatKNoLoUiZP"
      }
    },
    {
      "cell_type": "markdown",
      "source": [
        "<font color='black'>Let's check for outliers in age column"
      ],
      "metadata": {
        "id": "bzOyhL9IUk0c"
      }
    },
    {
      "cell_type": "code",
      "source": [
        "sns.boxplot(y='Age', data=users)\n",
        "plt.title('Find outlier data in Age column')"
      ],
      "metadata": {
        "colab": {
          "base_uri": "https://localhost:8080/",
          "height": 302
        },
        "id": "Eldy6ajBUUJ1",
        "outputId": "d6f965cc-12d0-47e8-90f0-fd18bbda41b6"
      },
      "execution_count": 12,
      "outputs": [
        {
          "output_type": "execute_result",
          "data": {
            "text/plain": [
              "Text(0.5, 1.0, 'Find outlier data in Age column')"
            ]
          },
          "metadata": {},
          "execution_count": 12
        },
        {
          "output_type": "display_data",
          "data": {
            "text/plain": [
              "<Figure size 432x288 with 1 Axes>"
            ],
            "image/png": "[encoded data removed]"
          },
          "metadata": {}
        }
      ]
    },
    {
      "cell_type": "code",
      "source": [
        "print(sorted(users.Age.unique()))"
      ],
      "metadata": {
        "colab": {
          "base_uri": "https://localhost:8080/"
        },
        "id": "HAyQSC8KUUOZ",
        "outputId": "114c16f2-35d3-4299-813a-8d79422cf249"
      },
      "execution_count": 13,
      "outputs": [
        {
          "output_type": "stream",
          "name": "stdout",
          "text": [
            "[nan, 0.0, 1.0, 2.0, 3.0, 4.0, 5.0, 6.0, 7.0, 8.0, 9.0, 10.0, 11.0, 12.0, 13.0, 14.0, 15.0, 16.0, 17.0, 18.0, 19.0, 20.0, 21.0, 22.0, 23.0, 24.0, 25.0, 26.0, 27.0, 28.0, 29.0, 30.0, 31.0, 32.0, 33.0, 34.0, 35.0, 36.0, 37.0, 38.0, 39.0, 40.0, 41.0, 42.0, 43.0, 44.0, 45.0, 46.0, 47.0, 48.0, 49.0, 50.0, 51.0, 52.0, 53.0, 54.0, 55.0, 56.0, 57.0, 58.0, 59.0, 60.0, 61.0, 62.0, 63.0, 64.0, 65.0, 66.0, 67.0, 68.0, 69.0, 70.0, 71.0, 72.0, 73.0, 74.0, 75.0, 76.0, 77.0, 78.0, 79.0, 80.0, 81.0, 82.0, 83.0, 84.0, 85.0, 86.0, 87.0, 88.0, 89.0, 90.0, 91.0, 92.0, 93.0, 94.0, 95.0, 96.0, 97.0, 98.0, 99.0, 100.0, 101.0, 102.0, 103.0, 104.0, 105.0, 106.0, 107.0, 108.0, 109.0, 110.0, 111.0, 113.0, 114.0, 115.0, 116.0, 118.0, 119.0, 123.0, 124.0, 127.0, 128.0, 132.0, 133.0, 136.0, 137.0, 138.0, 140.0, 141.0, 143.0, 146.0, 147.0, 148.0, 151.0, 152.0, 156.0, 157.0, 159.0, 162.0, 168.0, 172.0, 175.0, 183.0, 186.0, 189.0, 199.0, 200.0, 201.0, 204.0, 207.0, 208.0, 209.0, 210.0, 212.0, 219.0, 220.0, 223.0, 226.0, 228.0, 229.0, 230.0, 231.0, 237.0, 239.0, 244.0]\n"
          ]
        }
      ]
    },
    {
      "cell_type": "markdown",
      "source": [
        "<font color='black'>Age : 244 <br>\n",
        "Ok we have Outlier data in Age"
      ],
      "metadata": {
        "id": "9wPkiK7CUrvm"
      }
    },
    {
      "cell_type": "markdown",
      "source": [
        "<font color='black'>Let's find our unique value in Location column"
      ],
      "metadata": {
        "id": "XA2C4Ii_Uv22"
      }
    },
    {
      "cell_type": "code",
      "source": [
        "users.Location.unique()"
      ],
      "metadata": {
        "colab": {
          "base_uri": "https://localhost:8080/"
        },
        "id": "RRpmdJQ7UUR_",
        "outputId": "ede341e2-0ae3-4122-c90f-72772b419e2a"
      },
      "execution_count": 14,
      "outputs": [
        {
          "output_type": "execute_result",
          "data": {
            "text/plain": [
              "array(['nyc, new york, usa', 'stockton, california, usa',\n",
              "       'moscow, yukon territory, russia', ...,\n",
              "       'sergnano, lombardia, italy', 'stranraer, n/a, united kingdom',\n",
              "       'tacoma, washington, united kingdom'], dtype=object)"
            ]
          },
          "metadata": {},
          "execution_count": 14
        }
      ]
    },
    {
      "cell_type": "code",
      "source": [
        "users.Location.nunique()"
      ],
      "metadata": {
        "colab": {
          "base_uri": "https://localhost:8080/"
        },
        "id": "6JMSNTriUUWY",
        "outputId": "176c251b-9f2b-4e99-8b42-c41ba5e1b898"
      },
      "execution_count": 15,
      "outputs": [
        {
          "output_type": "execute_result",
          "data": {
            "text/plain": [
              "57339"
            ]
          },
          "metadata": {},
          "execution_count": 15
        }
      ]
    },
    {
      "cell_type": "markdown",
      "source": [
        "<font color='black'>57339 unique Value it's really hard to understand<br>\n",
        "So lets create column Country"
      ],
      "metadata": {
        "id": "vRrWk-N5VHhE"
      }
    },
    {
      "cell_type": "code",
      "source": [
        "for i in users:\n",
        "    users['Country']=users.Location.str.extract(r'\\,+\\s?(\\w*\\s?\\w*)\\\"*$')   "
      ],
      "metadata": {
        "id": "eKjEdFjgUUbn"
      },
      "execution_count": 16,
      "outputs": []
    },
    {
      "cell_type": "code",
      "source": [
        "users.Country.nunique()"
      ],
      "metadata": {
        "colab": {
          "base_uri": "https://localhost:8080/"
        },
        "id": "m2LpW9EiUUfD",
        "outputId": "a642891c-01fe-451a-a3e6-e24fc05a2656"
      },
      "execution_count": 17,
      "outputs": [
        {
          "output_type": "execute_result",
          "data": {
            "text/plain": [
              "518"
            ]
          },
          "metadata": {},
          "execution_count": 17
        }
      ]
    },
    {
      "cell_type": "code",
      "source": [
        "#drop location column\n",
        "users.drop('Location',axis=1,inplace=True)"
      ],
      "metadata": {
        "id": "mGUDl4BgVLAK"
      },
      "execution_count": 18,
      "outputs": []
    },
    {
      "cell_type": "code",
      "source": [
        "users.head(2)"
      ],
      "metadata": {
        "colab": {
          "base_uri": "https://localhost:8080/",
          "height": 112
        },
        "id": "z2E68j_8VMmh",
        "outputId": "5200b9ce-6b0e-4423-ae33-2e723155aa06"
      },
      "execution_count": 19,
      "outputs": [
        {
          "output_type": "execute_result",
          "data": {
            "text/plain": [
              "   User-ID   Age Country\n",
              "0        1   NaN     usa\n",
              "1        2  18.0     usa"
            ],
            "text/html": [
              "\n",
              "  <div id=\"df-95194ed9-88ca-4b24-adce-9f9a1e0d99f5\">\n",
              "    <div class=\"colab-df-container\">\n",
              "      <div>\n",
              "<style scoped>\n",
              "    .dataframe tbody tr th:only-of-type {\n",
              "        vertical-align: middle;\n",
              "    }\n",
              "\n",
              "    .dataframe tbody tr th {\n",
              "        vertical-align: top;\n",
              "    }\n",
              "\n",
              "    .dataframe thead th {\n",
              "        text-align: right;\n",
              "    }\n",
              "</style>\n",
              "<table border=\"1\" class=\"dataframe\">\n",
              "  <thead>\n",
              "    <tr style=\"text-align: right;\">\n",
              "      <th></th>\n",
              "      <th>User-ID</th>\n",
              "      <th>Age</th>\n",
              "      <th>Country</th>\n",
              "    </tr>\n",
              "  </thead>\n",
              "  <tbody>\n",
              "    <tr>\n",
              "      <th>0</th>\n",
              "      <td>1</td>\n",
              "      <td>NaN</td>\n",
              "      <td>usa</td>\n",
              "    </tr>\n",
              "    <tr>\n",
              "      <th>1</th>\n",
              "      <td>2</td>\n",
              "      <td>18.0</td>\n",
              "      <td>usa</td>\n",
              "    </tr>\n",
              "  </tbody>\n",
              "</table>\n",
              "</div>\n",
              "      <button class=\"colab-df-convert\" onclick=\"convertToInteractive('df-95194ed9-88ca-4b24-adce-9f9a1e0d99f5')\"\n",
              "              title=\"Convert this dataframe to an interactive table.\"\n",
              "              style=\"display:none;\">\n",
              "        \n",
              "  <svg xmlns=\"http://www.w3.org/2000/svg\" height=\"24px\"viewBox=\"0 0 24 24\"\n",
              "       width=\"24px\">\n",
              "    <path d=\"M0 0h24v24H0V0z\" fill=\"none\"/>\n",
              "    <path d=\"M18.56 5.44l.94 2.06.94-2.06 2.06-.94-2.06-.94-.94-2.06-.94 2.06-2.06.94zm-11 1L8.5 8.5l.94-2.06 2.06-.94-2.06-.94L8.5 2.5l-.94 2.06-2.06.94zm10 10l.94 2.06.94-2.06 2.06-.94-2.06-.94-.94-2.06-.94 2.06-2.06.94z\"/><path d=\"M17.41 7.96l-1.37-1.37c-.4-.4-.92-.59-1.43-.59-.52 0-1.04.2-1.43.59L10.3 9.45l-7.72 7.72c-.78.78-.78 2.05 0 2.83L4 21.41c.39.39.9.59 1.41.59.51 0 1.02-.2 1.41-.59l7.78-7.78 2.81-2.81c.8-.78.8-2.07 0-2.86zM5.41 20L4 18.59l7.72-7.72 1.47 1.35L5.41 20z\"/>\n",
              "  </svg>\n",
              "      </button>\n",
              "      \n",
              "  <style>\n",
              "    .colab-df-container {\n",
              "      display:flex;\n",
              "      flex-wrap:wrap;\n",
              "      gap: 12px;\n",
              "    }\n",
              "\n",
              "    .colab-df-convert {\n",
              "      background-color: #E8F0FE;\n",
              "      border: none;\n",
              "      border-radius: 50%;\n",
              "      cursor: pointer;\n",
              "      display: none;\n",
              "      fill: #1967D2;\n",
              "      height: 32px;\n",
              "      padding: 0 0 0 0;\n",
              "      width: 32px;\n",
              "    }\n",
              "\n",
              "    .colab-df-convert:hover {\n",
              "      background-color: #E2EBFA;\n",
              "      box-shadow: 0px 1px 2px rgba(60, 64, 67, 0.3), 0px 1px 3px 1px rgba(60, 64, 67, 0.15);\n",
              "      fill: #174EA6;\n",
              "    }\n",
              "\n",
              "    [theme=dark] .colab-df-convert {\n",
              "      background-color: #3B4455;\n",
              "      fill: #D2E3FC;\n",
              "    }\n",
              "\n",
              "    [theme=dark] .colab-df-convert:hover {\n",
              "      background-color: #434B5C;\n",
              "      box-shadow: 0px 1px 3px 1px rgba(0, 0, 0, 0.15);\n",
              "      filter: drop-shadow(0px 1px 2px rgba(0, 0, 0, 0.3));\n",
              "      fill: #FFFFFF;\n",
              "    }\n",
              "  </style>\n",
              "\n",
              "      <script>\n",
              "        const buttonEl =\n",
              "          document.querySelector('#df-95194ed9-88ca-4b24-adce-9f9a1e0d99f5 button.colab-df-convert');\n",
              "        buttonEl.style.display =\n",
              "          google.colab.kernel.accessAllowed ? 'block' : 'none';\n",
              "\n",
              "        async function convertToInteractive(key) {\n",
              "          const element = document.querySelector('#df-95194ed9-88ca-4b24-adce-9f9a1e0d99f5');\n",
              "          const dataTable =\n",
              "            await google.colab.kernel.invokeFunction('convertToInteractive',\n",
              "                                                     [key], {});\n",
              "          if (!dataTable) return;\n",
              "\n",
              "          const docLinkHtml = 'Like what you see? Visit the ' +\n",
              "            '<a target=\"_blank\" href=https://colab.research.google.com/notebooks/data_table.ipynb>data table notebook</a>'\n",
              "            + ' to learn more about interactive tables.';\n",
              "          element.innerHTML = '';\n",
              "          dataTable['output_type'] = 'display_data';\n",
              "          await google.colab.output.renderOutput(dataTable, element);\n",
              "          const docLink = document.createElement('div');\n",
              "          docLink.innerHTML = docLinkHtml;\n",
              "          element.appendChild(docLink);\n",
              "        }\n",
              "      </script>\n",
              "    </div>\n",
              "  </div>\n",
              "  "
            ]
          },
          "metadata": {},
          "execution_count": 19
        }
      ]
    },
    {
      "cell_type": "code",
      "source": [
        "users.isnull().sum()"
      ],
      "metadata": {
        "colab": {
          "base_uri": "https://localhost:8080/"
        },
        "id": "hAtD4iD4VONB",
        "outputId": "2aa2e675-0cbe-4be9-d8de-ef834e7bc566"
      },
      "execution_count": 20,
      "outputs": [
        {
          "output_type": "execute_result",
          "data": {
            "text/plain": [
              "User-ID         0\n",
              "Age        110762\n",
              "Country       450\n",
              "dtype: int64"
            ]
          },
          "metadata": {},
          "execution_count": 20
        }
      ]
    },
    {
      "cell_type": "code",
      "source": [
        "users['Country']=users['Country'].astype('str')"
      ],
      "metadata": {
        "id": "8Ec4BVVcVcX5"
      },
      "execution_count": 21,
      "outputs": []
    },
    {
      "cell_type": "code",
      "source": [
        "a=list(users.Country.unique())\n",
        "a=set(a)\n",
        "a=list(a)\n",
        "a = [x for x in a if x is not None]\n",
        "a.sort()"
      ],
      "metadata": {
        "id": "pv7eKghkVeK4"
      },
      "execution_count": 22,
      "outputs": []
    },
    {
      "cell_type": "markdown",
      "source": [
        "<font color='black'>Some data has Misspellings Let's correct it."
      ],
      "metadata": {
        "id": "1CXQlaE3VhpB"
      }
    },
    {
      "cell_type": "code",
      "source": [
        "users['Country'].replace(['','01776','02458','19104','23232','30064','85021','87510','alachua','america','austria','autralia','cananda','geermany','italia','united kindgonm','united sates','united staes','united state','united states','us'],\n",
        "                           ['other','usa','usa','usa','usa','usa','usa','usa','usa','usa','australia','australia','canada','germany','italy','united kingdom','usa','usa','usa','usa','usa'],inplace=True)"
      ],
      "metadata": {
        "id": "XpHU2Ez5VgGo"
      },
      "execution_count": 23,
      "outputs": []
    },
    {
      "cell_type": "code",
      "source": [
        "plt.figure(figsize=(15,7))\n",
        "sns.countplot(y='Country',data=users,order=pd.value_counts(users['Country']).iloc[:10].index,  palette='Set1')\n",
        "plt.title('Count of users Country wise')"
      ],
      "metadata": {
        "colab": {
          "base_uri": "https://localhost:8080/",
          "height": 517
        },
        "id": "tyT1tJq1VjNY",
        "outputId": "83b6aa52-8787-4a41-d40b-98c7b7b59b93"
      },
      "execution_count": 24,
      "outputs": [
        {
          "output_type": "execute_result",
          "data": {
            "text/plain": [
              "Text(0.5, 1.0, 'Count of users Country wise')"
            ]
          },
          "metadata": {},
          "execution_count": 24
        },
        {
          "output_type": "display_data",
          "data": {
            "text/plain": [
              "<Figure size 1080x504 with 1 Axes>"
            ],
            "image/png": "[encoded data removed]"
          },
          "metadata": {}
        }
      ]
    },
    {
      "cell_type": "markdown",
      "source": [
        "<font color='black'>Most number of users are from USA"
      ],
      "metadata": {
        "id": "aYX4KOnvVmZ5"
      }
    },
    {
      "cell_type": "markdown",
      "source": [
        "<font color='black'>Let's treat outliers in users age"
      ],
      "metadata": {
        "id": "-FDyC1UlVppr"
      }
    },
    {
      "cell_type": "code",
      "source": [
        "sns.distplot(users.Age)\n",
        "plt.title('Age Distribution Plot')"
      ],
      "metadata": {
        "colab": {
          "base_uri": "https://localhost:8080/",
          "height": 342
        },
        "id": "PIgEzaTcVkjw",
        "outputId": "48b76a8a-ded9-49b7-feb4-a72cf8471484"
      },
      "execution_count": 25,
      "outputs": [
        {
          "output_type": "execute_result",
          "data": {
            "text/plain": [
              "Text(0.5, 1.0, 'Age Distribution Plot')"
            ]
          },
          "metadata": {},
          "execution_count": 25
        },
        {
          "output_type": "display_data",
          "data": {
            "text/plain": [
              "<Figure size 432x288 with 1 Axes>"
            ],
            "image/png": "[encoded data removed]"
          },
          "metadata": {}
        }
      ]
    },
    {
      "cell_type": "markdown",
      "source": [
        "<font color='black'>Age value's below 5 and above 100 do not make much sense for our book rating case...hence replacing these by NaNs"
      ],
      "metadata": {
        "id": "N0SqX6mwV0bI"
      }
    },
    {
      "cell_type": "code",
      "source": [
        "# outlier data became NaN\n",
        "users.loc[(users.Age > 100) | (users.Age < 5), 'Age'] = np.nan"
      ],
      "metadata": {
        "id": "Gkk-pH4BVrgg"
      },
      "execution_count": 26,
      "outputs": []
    },
    {
      "cell_type": "code",
      "source": [
        "users.isna().sum()"
      ],
      "metadata": {
        "colab": {
          "base_uri": "https://localhost:8080/"
        },
        "id": "dtJvC57JV1-w",
        "outputId": "d617d2da-8b7c-43b2-9ca7-14a5ef2e8a02"
      },
      "execution_count": 27,
      "outputs": [
        {
          "output_type": "execute_result",
          "data": {
            "text/plain": [
              "User-ID         0\n",
              "Age        112010\n",
              "Country         0\n",
              "dtype: int64"
            ]
          },
          "metadata": {},
          "execution_count": 27
        }
      ]
    },
    {
      "cell_type": "markdown",
      "source": [
        "<font color='black'>Age has positive Skewness (right tail)\n",
        "so we can use median to fill Nan values,\n",
        "but for this we don't like to fill Nan value just for one range of age. To handle this we'll use country column to fill Nan."
      ],
      "metadata": {
        "id": "H40-1UW8V5MM"
      }
    },
    {
      "cell_type": "code",
      "source": [
        "users['Age'] = users['Age'].fillna(users.groupby('Country')['Age'].transform('median'))"
      ],
      "metadata": {
        "id": "kH3ApiKLV3rh"
      },
      "execution_count": 28,
      "outputs": []
    },
    {
      "cell_type": "code",
      "source": [
        "users.isna().sum()"
      ],
      "metadata": {
        "colab": {
          "base_uri": "https://localhost:8080/"
        },
        "id": "ow69Zdc6V6tQ",
        "outputId": "39885edf-dc49-46eb-d3fd-ed30ee9334f3"
      },
      "execution_count": 29,
      "outputs": [
        {
          "output_type": "execute_result",
          "data": {
            "text/plain": [
              "User-ID      0\n",
              "Age        273\n",
              "Country      0\n",
              "dtype: int64"
            ]
          },
          "metadata": {},
          "execution_count": 29
        }
      ]
    },
    {
      "cell_type": "markdown",
      "source": [
        "<font color='black'>Still we have 276 Nan values let's fill them with mean"
      ],
      "metadata": {
        "id": "liucQ5qQV_Qt"
      }
    },
    {
      "cell_type": "code",
      "source": [
        "users['Age'].fillna(users.Age.mean(),inplace=True)"
      ],
      "metadata": {
        "id": "zc4YtWWDV8FB"
      },
      "execution_count": 30,
      "outputs": []
    },
    {
      "cell_type": "code",
      "source": [
        "users.isna().sum()"
      ],
      "metadata": {
        "colab": {
          "base_uri": "https://localhost:8080/"
        },
        "id": "evLl7KxiWA6p",
        "outputId": "3bdbc19f-5d3d-4026-96c9-c4736d35aaee"
      },
      "execution_count": 31,
      "outputs": [
        {
          "output_type": "execute_result",
          "data": {
            "text/plain": [
              "User-ID    0\n",
              "Age        0\n",
              "Country    0\n",
              "dtype: int64"
            ]
          },
          "metadata": {},
          "execution_count": 31
        }
      ]
    },
    {
      "cell_type": "markdown",
      "source": [
        "# <font color='darkblue'>**2. Books Dataset**"
      ],
      "metadata": {
        "id": "2ZWgl_2AWEei"
      }
    },
    {
      "cell_type": "code",
      "source": [
        "books.head(2)"
      ],
      "metadata": {
        "colab": {
          "base_uri": "https://localhost:8080/",
          "height": 112
        },
        "id": "kjwJa3sbWCJx",
        "outputId": "4f67ab9e-6dcf-459b-a735-80588a9fc22e"
      },
      "execution_count": 32,
      "outputs": [
        {
          "output_type": "execute_result",
          "data": {
            "text/plain": [
              "         ISBN           Book-Title           Book-Author Year-Of-Publication  \\\n",
              "0  0195153448  Classical Mythology    Mark P. O. Morford                2002   \n",
              "1  0002005018         Clara Callan  Richard Bruce Wright                2001   \n",
              "\n",
              "                 Publisher                                        Image-URL-S  \\\n",
              "0  Oxford University Press  http://images.amazon.com/images/P/0195153448.0...   \n",
              "1    HarperFlamingo Canada  http://images.amazon.com/images/P/0002005018.0...   \n",
              "\n",
              "                                         Image-URL-M  \\\n",
              "0  http://images.amazon.com/images/P/0195153448.0...   \n",
              "1  http://images.amazon.com/images/P/0002005018.0...   \n",
              "\n",
              "                                         Image-URL-L  \n",
              "0  http://images.amazon.com/images/P/0195153448.0...  \n",
              "1  http://images.amazon.com/images/P/0002005018.0...  "
            ],
            "text/html": [
              "\n",
              "  <div id=\"df-98e40275-3511-4de7-b318-1af54e48098f\">\n",
              "    <div class=\"colab-df-container\">\n",
              "      <div>\n",
              "<style scoped>\n",
              "    .dataframe tbody tr th:only-of-type {\n",
              "        vertical-align: middle;\n",
              "    }\n",
              "\n",
              "    .dataframe tbody tr th {\n",
              "        vertical-align: top;\n",
              "    }\n",
              "\n",
              "    .dataframe thead th {\n",
              "        text-align: right;\n",
              "    }\n",
              "</style>\n",
              "<table border=\"1\" class=\"dataframe\">\n",
              "  <thead>\n",
              "    <tr style=\"text-align: right;\">\n",
              "      <th></th>\n",
              "      <th>ISBN</th>\n",
              "      <th>Book-Title</th>\n",
              "      <th>Book-Author</th>\n",
              "      <th>Year-Of-Publication</th>\n",
              "      <th>Publisher</th>\n",
              "      <th>Image-URL-S</th>\n",
              "      <th>Image-URL-M</th>\n",
              "      <th>Image-URL-L</th>\n",
              "    </tr>\n",
              "  </thead>\n",
              "  <tbody>\n",
              "    <tr>\n",
              "      <th>0</th>\n",
              "      <td>0195153448</td>\n",
              "      <td>Classical Mythology</td>\n",
              "      <td>Mark P. O. Morford</td>\n",
              "      <td>2002</td>\n",
              "      <td>Oxford University Press</td>\n",
              "      <td>http://images.amazon.com/images/P/0195153448.0...</td>\n",
              "      <td>http://images.amazon.com/images/P/0195153448.0...</td>\n",
              "      <td>http://images.amazon.com/images/P/0195153448.0...</td>\n",
              "    </tr>\n",
              "    <tr>\n",
              "      <th>1</th>\n",
              "      <td>0002005018</td>\n",
              "      <td>Clara Callan</td>\n",
              "      <td>Richard Bruce Wright</td>\n",
              "      <td>2001</td>\n",
              "      <td>HarperFlamingo Canada</td>\n",
              "      <td>http://images.amazon.com/images/P/0002005018.0...</td>\n",
              "      <td>http://images.amazon.com/images/P/0002005018.0...</td>\n",
              "      <td>http://images.amazon.com/images/P/0002005018.0...</td>\n",
              "    </tr>\n",
              "  </tbody>\n",
              "</table>\n",
              "</div>\n",
              "      <button class=\"colab-df-convert\" onclick=\"convertToInteractive('df-98e40275-3511-4de7-b318-1af54e48098f')\"\n",
              "              title=\"Convert this dataframe to an interactive table.\"\n",
              "              style=\"display:none;\">\n",
              "        \n",
              "  <svg xmlns=\"http://www.w3.org/2000/svg\" height=\"24px\"viewBox=\"0 0 24 24\"\n",
              "       width=\"24px\">\n",
              "    <path d=\"M0 0h24v24H0V0z\" fill=\"none\"/>\n",
              "    <path d=\"M18.56 5.44l.94 2.06.94-2.06 2.06-.94-2.06-.94-.94-2.06-.94 2.06-2.06.94zm-11 1L8.5 8.5l.94-2.06 2.06-.94-2.06-.94L8.5 2.5l-.94 2.06-2.06.94zm10 10l.94 2.06.94-2.06 2.06-.94-2.06-.94-.94-2.06-.94 2.06-2.06.94z\"/><path d=\"M17.41 7.96l-1.37-1.37c-.4-.4-.92-.59-1.43-.59-.52 0-1.04.2-1.43.59L10.3 9.45l-7.72 7.72c-.78.78-.78 2.05 0 2.83L4 21.41c.39.39.9.59 1.41.59.51 0 1.02-.2 1.41-.59l7.78-7.78 2.81-2.81c.8-.78.8-2.07 0-2.86zM5.41 20L4 18.59l7.72-7.72 1.47 1.35L5.41 20z\"/>\n",
              "  </svg>\n",
              "      </button>\n",
              "      \n",
              "  <style>\n",
              "    .colab-df-container {\n",
              "      display:flex;\n",
              "      flex-wrap:wrap;\n",
              "      gap: 12px;\n",
              "    }\n",
              "\n",
              "    .colab-df-convert {\n",
              "      background-color: #E8F0FE;\n",
              "      border: none;\n",
              "      border-radius: 50%;\n",
              "      cursor: pointer;\n",
              "      display: none;\n",
              "      fill: #1967D2;\n",
              "      height: 32px;\n",
              "      padding: 0 0 0 0;\n",
              "      width: 32px;\n",
              "    }\n",
              "\n",
              "    .colab-df-convert:hover {\n",
              "      background-color: #E2EBFA;\n",
              "      box-shadow: 0px 1px 2px rgba(60, 64, 67, 0.3), 0px 1px 3px 1px rgba(60, 64, 67, 0.15);\n",
              "      fill: #174EA6;\n",
              "    }\n",
              "\n",
              "    [theme=dark] .colab-df-convert {\n",
              "      background-color: #3B4455;\n",
              "      fill: #D2E3FC;\n",
              "    }\n",
              "\n",
              "    [theme=dark] .colab-df-convert:hover {\n",
              "      background-color: #434B5C;\n",
              "      box-shadow: 0px 1px 3px 1px rgba(0, 0, 0, 0.15);\n",
              "      filter: drop-shadow(0px 1px 2px rgba(0, 0, 0, 0.3));\n",
              "      fill: #FFFFFF;\n",
              "    }\n",
              "  </style>\n",
              "\n",
              "      <script>\n",
              "        const buttonEl =\n",
              "          document.querySelector('#df-98e40275-3511-4de7-b318-1af54e48098f button.colab-df-convert');\n",
              "        buttonEl.style.display =\n",
              "          google.colab.kernel.accessAllowed ? 'block' : 'none';\n",
              "\n",
              "        async function convertToInteractive(key) {\n",
              "          const element = document.querySelector('#df-98e40275-3511-4de7-b318-1af54e48098f');\n",
              "          const dataTable =\n",
              "            await google.colab.kernel.invokeFunction('convertToInteractive',\n",
              "                                                     [key], {});\n",
              "          if (!dataTable) return;\n",
              "\n",
              "          const docLinkHtml = 'Like what you see? Visit the ' +\n",
              "            '<a target=\"_blank\" href=https://colab.research.google.com/notebooks/data_table.ipynb>data table notebook</a>'\n",
              "            + ' to learn more about interactive tables.';\n",
              "          element.innerHTML = '';\n",
              "          dataTable['output_type'] = 'display_data';\n",
              "          await google.colab.output.renderOutput(dataTable, element);\n",
              "          const docLink = document.createElement('div');\n",
              "          docLink.innerHTML = docLinkHtml;\n",
              "          element.appendChild(docLink);\n",
              "        }\n",
              "      </script>\n",
              "    </div>\n",
              "  </div>\n",
              "  "
            ]
          },
          "metadata": {},
          "execution_count": 32
        }
      ]
    },
    {
      "cell_type": "markdown",
      "source": [
        "<font color='black'>Top 10 Authors which have written the most books."
      ],
      "metadata": {
        "id": "liSM7zmnWJiR"
      }
    },
    {
      "cell_type": "code",
      "source": [
        "plt.figure(figsize=(15,7))\n",
        "sns.countplot(y='Book-Author',data=books,order=pd.value_counts(books['Book-Author']).iloc[:10].index,  palette='Set1')\n",
        "plt.title('Top 10 Authors')"
      ],
      "metadata": {
        "colab": {
          "base_uri": "https://localhost:8080/",
          "height": 517
        },
        "id": "Tnk1NFENWGvx",
        "outputId": "c918fc7d-55c3-4fcb-f3b1-527a292edf06"
      },
      "execution_count": 33,
      "outputs": [
        {
          "output_type": "execute_result",
          "data": {
            "text/plain": [
              "Text(0.5, 1.0, 'Top 10 Authors')"
            ]
          },
          "metadata": {},
          "execution_count": 33
        },
        {
          "output_type": "display_data",
          "data": {
            "text/plain": [
              "<Figure size 1080x504 with 1 Axes>"
            ],
            "image/png": "[encoded data removed]"
          },
          "metadata": {}
        }
      ]
    },
    {
      "cell_type": "markdown",
      "source": [
        "<font color='black'>Top 10 Publisher which have published the most books."
      ],
      "metadata": {
        "id": "QH3A591LWOfo"
      }
    },
    {
      "cell_type": "code",
      "source": [
        "plt.figure(figsize=(15,7))\n",
        "sns.countplot(y='Publisher',data=books,order=pd.value_counts(books['Publisher']).iloc[:10].index, palette='Set1')\n",
        "plt.title('Top 10 Publishers')"
      ],
      "metadata": {
        "colab": {
          "base_uri": "https://localhost:8080/",
          "height": 517
        },
        "id": "EbPJhx1IWLSS",
        "outputId": "3cac472c-7a96-4336-b91c-ca6647d51fbb"
      },
      "execution_count": 34,
      "outputs": [
        {
          "output_type": "execute_result",
          "data": {
            "text/plain": [
              "Text(0.5, 1.0, 'Top 10 Publishers')"
            ]
          },
          "metadata": {},
          "execution_count": 34
        },
        {
          "output_type": "display_data",
          "data": {
            "text/plain": [
              "<Figure size 1080x504 with 1 Axes>"
            ],
            "image/png": "[encoded data removed]"
          },
          "metadata": {}
        }
      ]
    },
    {
      "cell_type": "code",
      "source": [
        "books['Year-Of-Publication']=books['Year-Of-Publication'].astype('str')\n",
        "a=list(books['Year-Of-Publication'].unique())\n",
        "a=set(a)\n",
        "a=list(a)\n",
        "a = [x for x in a if x is not None]\n",
        "a.sort()\n",
        "print(a)"
      ],
      "metadata": {
        "colab": {
          "base_uri": "https://localhost:8080/"
        },
        "id": "5tjkug0FWQip",
        "outputId": "63866788-c6ef-420f-b63c-45895c8bc410"
      },
      "execution_count": 35,
      "outputs": [
        {
          "output_type": "stream",
          "name": "stdout",
          "text": [
            "['0', '1376', '1378', '1806', '1897', '1900', '1901', '1902', '1904', '1906', '1908', '1909', '1910', '1911', '1914', '1917', '1919', '1920', '1921', '1922', '1923', '1924', '1925', '1926', '1927', '1928', '1929', '1930', '1931', '1932', '1933', '1934', '1935', '1936', '1937', '1938', '1939', '1940', '1941', '1942', '1943', '1944', '1945', '1946', '1947', '1948', '1949', '1950', '1951', '1952', '1953', '1954', '1955', '1956', '1957', '1958', '1959', '1960', '1961', '1962', '1963', '1964', '1965', '1966', '1967', '1968', '1969', '1970', '1971', '1972', '1973', '1974', '1975', '1976', '1977', '1978', '1979', '1980', '1981', '1982', '1983', '1984', '1985', '1986', '1987', '1988', '1989', '1990', '1991', '1992', '1993', '1994', '1995', '1996', '1997', '1998', '1999', '2000', '2001', '2002', '2003', '2004', '2005', '2006', '2008', '2010', '2011', '2012', '2020', '2021', '2024', '2026', '2030', '2037', '2038', '2050', 'DK Publishing Inc', 'Gallimard']\n"
          ]
        }
      ]
    },
    {
      "cell_type": "code",
      "source": [
        "#investigating the rows having 'DK Publishing Inc' as yearOfPublication\n",
        "books.loc[books['Year-Of-Publication'] == 'DK Publishing Inc',:]"
      ],
      "metadata": {
        "colab": {
          "base_uri": "https://localhost:8080/",
          "height": 156
        },
        "id": "Iob5sM-LWSgp",
        "outputId": "0125c899-164b-448b-a369-fcc6bc5edca1"
      },
      "execution_count": 36,
      "outputs": [
        {
          "output_type": "execute_result",
          "data": {
            "text/plain": [
              "              ISBN                                         Book-Title  \\\n",
              "209538  078946697X  DK Readers: Creating the X-Men, How It All Beg...   \n",
              "221678  0789466953  DK Readers: Creating the X-Men, How Comic Book...   \n",
              "\n",
              "       Book-Author Year-Of-Publication  \\\n",
              "209538        2000   DK Publishing Inc   \n",
              "221678        2000   DK Publishing Inc   \n",
              "\n",
              "                                                Publisher  \\\n",
              "209538  http://images.amazon.com/images/P/078946697X.0...   \n",
              "221678  http://images.amazon.com/images/P/0789466953.0...   \n",
              "\n",
              "                                              Image-URL-S  \\\n",
              "209538  http://images.amazon.com/images/P/078946697X.0...   \n",
              "221678  http://images.amazon.com/images/P/0789466953.0...   \n",
              "\n",
              "                                              Image-URL-M Image-URL-L  \n",
              "209538  http://images.amazon.com/images/P/078946697X.0...         NaN  \n",
              "221678  http://images.amazon.com/images/P/0789466953.0...         NaN  "
            ],
            "text/html": [
              "\n",
              "  <div id=\"df-63154758-4086-457f-89ab-ac0feef51266\">\n",
              "    <div class=\"colab-df-container\">\n",
              "      <div>\n",
              "<style scoped>\n",
              "    .dataframe tbody tr th:only-of-type {\n",
              "        vertical-align: middle;\n",
              "    }\n",
              "\n",
              "    .dataframe tbody tr th {\n",
              "        vertical-align: top;\n",
              "    }\n",
              "\n",
              "    .dataframe thead th {\n",
              "        text-align: right;\n",
              "    }\n",
              "</style>\n",
              "<table border=\"1\" class=\"dataframe\">\n",
              "  <thead>\n",
              "    <tr style=\"text-align: right;\">\n",
              "      <th></th>\n",
              "      <th>ISBN</th>\n",
              "      <th>Book-Title</th>\n",
              "      <th>Book-Author</th>\n",
              "      <th>Year-Of-Publication</th>\n",
              "      <th>Publisher</th>\n",
              "      <th>Image-URL-S</th>\n",
              "      <th>Image-URL-M</th>\n",
              "      <th>Image-URL-L</th>\n",
              "    </tr>\n",
              "  </thead>\n",
              "  <tbody>\n",
              "    <tr>\n",
              "      <th>209538</th>\n",
              "      <td>078946697X</td>\n",
              "      <td>DK Readers: Creating the X-Men, How It All Beg...</td>\n",
              "      <td>2000</td>\n",
              "      <td>DK Publishing Inc</td>\n",
              "      <td>http://images.amazon.com/images/P/078946697X.0...</td>\n",
              "      <td>http://images.amazon.com/images/P/078946697X.0...</td>\n",
              "      <td>http://images.amazon.com/images/P/078946697X.0...</td>\n",
              "      <td>NaN</td>\n",
              "    </tr>\n",
              "    <tr>\n",
              "      <th>221678</th>\n",
              "      <td>0789466953</td>\n",
              "      <td>DK Readers: Creating the X-Men, How Comic Book...</td>\n",
              "      <td>2000</td>\n",
              "      <td>DK Publishing Inc</td>\n",
              "      <td>http://images.amazon.com/images/P/0789466953.0...</td>\n",
              "      <td>http://images.amazon.com/images/P/0789466953.0...</td>\n",
              "      <td>http://images.amazon.com/images/P/0789466953.0...</td>\n",
              "      <td>NaN</td>\n",
              "    </tr>\n",
              "  </tbody>\n",
              "</table>\n",
              "</div>\n",
              "      <button class=\"colab-df-convert\" onclick=\"convertToInteractive('df-63154758-4086-457f-89ab-ac0feef51266')\"\n",
              "              title=\"Convert this dataframe to an interactive table.\"\n",
              "              style=\"display:none;\">\n",
              "        \n",
              "  <svg xmlns=\"http://www.w3.org/2000/svg\" height=\"24px\"viewBox=\"0 0 24 24\"\n",
              "       width=\"24px\">\n",
              "    <path d=\"M0 0h24v24H0V0z\" fill=\"none\"/>\n",
              "    <path d=\"M18.56 5.44l.94 2.06.94-2.06 2.06-.94-2.06-.94-.94-2.06-.94 2.06-2.06.94zm-11 1L8.5 8.5l.94-2.06 2.06-.94-2.06-.94L8.5 2.5l-.94 2.06-2.06.94zm10 10l.94 2.06.94-2.06 2.06-.94-2.06-.94-.94-2.06-.94 2.06-2.06.94z\"/><path d=\"M17.41 7.96l-1.37-1.37c-.4-.4-.92-.59-1.43-.59-.52 0-1.04.2-1.43.59L10.3 9.45l-7.72 7.72c-.78.78-.78 2.05 0 2.83L4 21.41c.39.39.9.59 1.41.59.51 0 1.02-.2 1.41-.59l7.78-7.78 2.81-2.81c.8-.78.8-2.07 0-2.86zM5.41 20L4 18.59l7.72-7.72 1.47 1.35L5.41 20z\"/>\n",
              "  </svg>\n",
              "      </button>\n",
              "      \n",
              "  <style>\n",
              "    .colab-df-container {\n",
              "      display:flex;\n",
              "      flex-wrap:wrap;\n",
              "      gap: 12px;\n",
              "    }\n",
              "\n",
              "    .colab-df-convert {\n",
              "      background-color: #E8F0FE;\n",
              "      border: none;\n",
              "      border-radius: 50%;\n",
              "      cursor: pointer;\n",
              "      display: none;\n",
              "      fill: #1967D2;\n",
              "      height: 32px;\n",
              "      padding: 0 0 0 0;\n",
              "      width: 32px;\n",
              "    }\n",
              "\n",
              "    .colab-df-convert:hover {\n",
              "      background-color: #E2EBFA;\n",
              "      box-shadow: 0px 1px 2px rgba(60, 64, 67, 0.3), 0px 1px 3px 1px rgba(60, 64, 67, 0.15);\n",
              "      fill: #174EA6;\n",
              "    }\n",
              "\n",
              "    [theme=dark] .colab-df-convert {\n",
              "      background-color: #3B4455;\n",
              "      fill: #D2E3FC;\n",
              "    }\n",
              "\n",
              "    [theme=dark] .colab-df-convert:hover {\n",
              "      background-color: #434B5C;\n",
              "      box-shadow: 0px 1px 3px 1px rgba(0, 0, 0, 0.15);\n",
              "      filter: drop-shadow(0px 1px 2px rgba(0, 0, 0, 0.3));\n",
              "      fill: #FFFFFF;\n",
              "    }\n",
              "  </style>\n",
              "\n",
              "      <script>\n",
              "        const buttonEl =\n",
              "          document.querySelector('#df-63154758-4086-457f-89ab-ac0feef51266 button.colab-df-convert');\n",
              "        buttonEl.style.display =\n",
              "          google.colab.kernel.accessAllowed ? 'block' : 'none';\n",
              "\n",
              "        async function convertToInteractive(key) {\n",
              "          const element = document.querySelector('#df-63154758-4086-457f-89ab-ac0feef51266');\n",
              "          const dataTable =\n",
              "            await google.colab.kernel.invokeFunction('convertToInteractive',\n",
              "                                                     [key], {});\n",
              "          if (!dataTable) return;\n",
              "\n",
              "          const docLinkHtml = 'Like what you see? Visit the ' +\n",
              "            '<a target=\"_blank\" href=https://colab.research.google.com/notebooks/data_table.ipynb>data table notebook</a>'\n",
              "            + ' to learn more about interactive tables.';\n",
              "          element.innerHTML = '';\n",
              "          dataTable['output_type'] = 'display_data';\n",
              "          await google.colab.output.renderOutput(dataTable, element);\n",
              "          const docLink = document.createElement('div');\n",
              "          docLink.innerHTML = docLinkHtml;\n",
              "          element.appendChild(docLink);\n",
              "        }\n",
              "      </script>\n",
              "    </div>\n",
              "  </div>\n",
              "  "
            ]
          },
          "metadata": {},
          "execution_count": 36
        }
      ]
    },
    {
      "cell_type": "markdown",
      "source": [
        "<font color='black'>As it can be seen from above that there are some incorrect entries in Year-Of-Publication field. It looks like Publisher names 'DK Publishing Inc' and 'Gallimard' have been incorrectly loaded as Year-Of-Publication in dataset due to some errors in csv file "
      ],
      "metadata": {
        "id": "VcO5tIUTWVq8"
      }
    },
    {
      "cell_type": "code",
      "source": [
        "#From above, it is seen that bookAuthor is incorrectly loaded with bookTitle, hence making required corrections\n",
        "#ISBN '0789466953'\n",
        "books.loc[books.ISBN == '0789466953','Year-Of-Publication'] = 2000\n",
        "books.loc[books.ISBN == '0789466953','Book-Author'] = \"James Buckley\"\n",
        "books.loc[books.ISBN == '0789466953','Publisher'] = \"DK Publishing Inc\"\n",
        "books.loc[books.ISBN == '0789466953','Book-Title'] = \"DK Readers: Creating the X-Men, How Comic Books Come to Life (Level 4: Proficient Readers)\"\n",
        "\n",
        "#ISBN '078946697X'\n",
        "books.loc[books.ISBN == '078946697X','Year-Of-Publication'] = 2000\n",
        "books.loc[books.ISBN == '078946697X','Book-Author'] = \"Michael Teitelbaum\"\n",
        "books.loc[books.ISBN == '078946697X','Publisher'] = \"DK Publishing Inc\"\n",
        "books.loc[books.ISBN == '078946697X','Book-Title'] = \"DK Readers: Creating the X-Men, How It All Began (Level 4: Proficient Readers)\"\n",
        "\n",
        "#rechecking\n",
        "books.loc[(books.ISBN == '0789466953') | (books.ISBN == '078946697X'),:]\n",
        "#corrections done"
      ],
      "metadata": {
        "colab": {
          "base_uri": "https://localhost:8080/",
          "height": 112
        },
        "id": "Aqlu0fzrWTwA",
        "outputId": "8d1f8b9b-a614-4b8f-f83c-2e65f9ac014f"
      },
      "execution_count": 37,
      "outputs": [
        {
          "output_type": "execute_result",
          "data": {
            "text/plain": [
              "              ISBN                                         Book-Title  \\\n",
              "209538  078946697X  DK Readers: Creating the X-Men, How It All Beg...   \n",
              "221678  0789466953  DK Readers: Creating the X-Men, How Comic Book...   \n",
              "\n",
              "               Book-Author Year-Of-Publication          Publisher  \\\n",
              "209538  Michael Teitelbaum                2000  DK Publishing Inc   \n",
              "221678       James Buckley                2000  DK Publishing Inc   \n",
              "\n",
              "                                              Image-URL-S  \\\n",
              "209538  http://images.amazon.com/images/P/078946697X.0...   \n",
              "221678  http://images.amazon.com/images/P/0789466953.0...   \n",
              "\n",
              "                                              Image-URL-M Image-URL-L  \n",
              "209538  http://images.amazon.com/images/P/078946697X.0...         NaN  \n",
              "221678  http://images.amazon.com/images/P/0789466953.0...         NaN  "
            ],
            "text/html": [
              "\n",
              "  <div id=\"df-5bc962c2-08bb-44c9-bd68-f4157e21b9da\">\n",
              "    <div class=\"colab-df-container\">\n",
              "      <div>\n",
              "<style scoped>\n",
              "    .dataframe tbody tr th:only-of-type {\n",
              "        vertical-align: middle;\n",
              "    }\n",
              "\n",
              "    .dataframe tbody tr th {\n",
              "        vertical-align: top;\n",
              "    }\n",
              "\n",
              "    .dataframe thead th {\n",
              "        text-align: right;\n",
              "    }\n",
              "</style>\n",
              "<table border=\"1\" class=\"dataframe\">\n",
              "  <thead>\n",
              "    <tr style=\"text-align: right;\">\n",
              "      <th></th>\n",
              "      <th>ISBN</th>\n",
              "      <th>Book-Title</th>\n",
              "      <th>Book-Author</th>\n",
              "      <th>Year-Of-Publication</th>\n",
              "      <th>Publisher</th>\n",
              "      <th>Image-URL-S</th>\n",
              "      <th>Image-URL-M</th>\n",
              "      <th>Image-URL-L</th>\n",
              "    </tr>\n",
              "  </thead>\n",
              "  <tbody>\n",
              "    <tr>\n",
              "      <th>209538</th>\n",
              "      <td>078946697X</td>\n",
              "      <td>DK Readers: Creating the X-Men, How It All Beg...</td>\n",
              "      <td>Michael Teitelbaum</td>\n",
              "      <td>2000</td>\n",
              "      <td>DK Publishing Inc</td>\n",
              "      <td>http://images.amazon.com/images/P/078946697X.0...</td>\n",
              "      <td>http://images.amazon.com/images/P/078946697X.0...</td>\n",
              "      <td>NaN</td>\n",
              "    </tr>\n",
              "    <tr>\n",
              "      <th>221678</th>\n",
              "      <td>0789466953</td>\n",
              "      <td>DK Readers: Creating the X-Men, How Comic Book...</td>\n",
              "      <td>James Buckley</td>\n",
              "      <td>2000</td>\n",
              "      <td>DK Publishing Inc</td>\n",
              "      <td>http://images.amazon.com/images/P/0789466953.0...</td>\n",
              "      <td>http://images.amazon.com/images/P/0789466953.0...</td>\n",
              "      <td>NaN</td>\n",
              "    </tr>\n",
              "  </tbody>\n",
              "</table>\n",
              "</div>\n",
              "      <button class=\"colab-df-convert\" onclick=\"convertToInteractive('df-5bc962c2-08bb-44c9-bd68-f4157e21b9da')\"\n",
              "              title=\"Convert this dataframe to an interactive table.\"\n",
              "              style=\"display:none;\">\n",
              "        \n",
              "  <svg xmlns=\"http://www.w3.org/2000/svg\" height=\"24px\"viewBox=\"0 0 24 24\"\n",
              "       width=\"24px\">\n",
              "    <path d=\"M0 0h24v24H0V0z\" fill=\"none\"/>\n",
              "    <path d=\"M18.56 5.44l.94 2.06.94-2.06 2.06-.94-2.06-.94-.94-2.06-.94 2.06-2.06.94zm-11 1L8.5 8.5l.94-2.06 2.06-.94-2.06-.94L8.5 2.5l-.94 2.06-2.06.94zm10 10l.94 2.06.94-2.06 2.06-.94-2.06-.94-.94-2.06-.94 2.06-2.06.94z\"/><path d=\"M17.41 7.96l-1.37-1.37c-.4-.4-.92-.59-1.43-.59-.52 0-1.04.2-1.43.59L10.3 9.45l-7.72 7.72c-.78.78-.78 2.05 0 2.83L4 21.41c.39.39.9.59 1.41.59.51 0 1.02-.2 1.41-.59l7.78-7.78 2.81-2.81c.8-.78.8-2.07 0-2.86zM5.41 20L4 18.59l7.72-7.72 1.47 1.35L5.41 20z\"/>\n",
              "  </svg>\n",
              "      </button>\n",
              "      \n",
              "  <style>\n",
              "    .colab-df-container {\n",
              "      display:flex;\n",
              "      flex-wrap:wrap;\n",
              "      gap: 12px;\n",
              "    }\n",
              "\n",
              "    .colab-df-convert {\n",
              "      background-color: #E8F0FE;\n",
              "      border: none;\n",
              "      border-radius: 50%;\n",
              "      cursor: pointer;\n",
              "      display: none;\n",
              "      fill: #1967D2;\n",
              "      height: 32px;\n",
              "      padding: 0 0 0 0;\n",
              "      width: 32px;\n",
              "    }\n",
              "\n",
              "    .colab-df-convert:hover {\n",
              "      background-color: #E2EBFA;\n",
              "      box-shadow: 0px 1px 2px rgba(60, 64, 67, 0.3), 0px 1px 3px 1px rgba(60, 64, 67, 0.15);\n",
              "      fill: #174EA6;\n",
              "    }\n",
              "\n",
              "    [theme=dark] .colab-df-convert {\n",
              "      background-color: #3B4455;\n",
              "      fill: #D2E3FC;\n",
              "    }\n",
              "\n",
              "    [theme=dark] .colab-df-convert:hover {\n",
              "      background-color: #434B5C;\n",
              "      box-shadow: 0px 1px 3px 1px rgba(0, 0, 0, 0.15);\n",
              "      filter: drop-shadow(0px 1px 2px rgba(0, 0, 0, 0.3));\n",
              "      fill: #FFFFFF;\n",
              "    }\n",
              "  </style>\n",
              "\n",
              "      <script>\n",
              "        const buttonEl =\n",
              "          document.querySelector('#df-5bc962c2-08bb-44c9-bd68-f4157e21b9da button.colab-df-convert');\n",
              "        buttonEl.style.display =\n",
              "          google.colab.kernel.accessAllowed ? 'block' : 'none';\n",
              "\n",
              "        async function convertToInteractive(key) {\n",
              "          const element = document.querySelector('#df-5bc962c2-08bb-44c9-bd68-f4157e21b9da');\n",
              "          const dataTable =\n",
              "            await google.colab.kernel.invokeFunction('convertToInteractive',\n",
              "                                                     [key], {});\n",
              "          if (!dataTable) return;\n",
              "\n",
              "          const docLinkHtml = 'Like what you see? Visit the ' +\n",
              "            '<a target=\"_blank\" href=https://colab.research.google.com/notebooks/data_table.ipynb>data table notebook</a>'\n",
              "            + ' to learn more about interactive tables.';\n",
              "          element.innerHTML = '';\n",
              "          dataTable['output_type'] = 'display_data';\n",
              "          await google.colab.output.renderOutput(dataTable, element);\n",
              "          const docLink = document.createElement('div');\n",
              "          docLink.innerHTML = docLinkHtml;\n",
              "          element.appendChild(docLink);\n",
              "        }\n",
              "      </script>\n",
              "    </div>\n",
              "  </div>\n",
              "  "
            ]
          },
          "metadata": {},
          "execution_count": 37
        }
      ]
    },
    {
      "cell_type": "code",
      "source": [
        "#investigating the rows having 'Gallimard' as yearOfPublication\n",
        "books.loc[books['Year-Of-Publication'] == 'Gallimard',:]"
      ],
      "metadata": {
        "colab": {
          "base_uri": "https://localhost:8080/",
          "height": 81
        },
        "id": "LycTtbzbWXVo",
        "outputId": "2073fa49-5e1d-4dc0-df26-6df98b94d0fe"
      },
      "execution_count": 38,
      "outputs": [
        {
          "output_type": "execute_result",
          "data": {
            "text/plain": [
              "              ISBN                                         Book-Title  \\\n",
              "220731  2070426769  Peuple du ciel, suivi de 'Les Bergers\\\";Jean-M...   \n",
              "\n",
              "       Book-Author Year-Of-Publication  \\\n",
              "220731        2003           Gallimard   \n",
              "\n",
              "                                                Publisher  \\\n",
              "220731  http://images.amazon.com/images/P/2070426769.0...   \n",
              "\n",
              "                                              Image-URL-S  \\\n",
              "220731  http://images.amazon.com/images/P/2070426769.0...   \n",
              "\n",
              "                                              Image-URL-M Image-URL-L  \n",
              "220731  http://images.amazon.com/images/P/2070426769.0...         NaN  "
            ],
            "text/html": [
              "\n",
              "  <div id=\"df-a14eefee-857e-402e-83a8-8d94e5c254c9\">\n",
              "    <div class=\"colab-df-container\">\n",
              "      <div>\n",
              "<style scoped>\n",
              "    .dataframe tbody tr th:only-of-type {\n",
              "        vertical-align: middle;\n",
              "    }\n",
              "\n",
              "    .dataframe tbody tr th {\n",
              "        vertical-align: top;\n",
              "    }\n",
              "\n",
              "    .dataframe thead th {\n",
              "        text-align: right;\n",
              "    }\n",
              "</style>\n",
              "<table border=\"1\" class=\"dataframe\">\n",
              "  <thead>\n",
              "    <tr style=\"text-align: right;\">\n",
              "      <th></th>\n",
              "      <th>ISBN</th>\n",
              "      <th>Book-Title</th>\n",
              "      <th>Book-Author</th>\n",
              "      <th>Year-Of-Publication</th>\n",
              "      <th>Publisher</th>\n",
              "      <th>Image-URL-S</th>\n",
              "      <th>Image-URL-M</th>\n",
              "      <th>Image-URL-L</th>\n",
              "    </tr>\n",
              "  </thead>\n",
              "  <tbody>\n",
              "    <tr>\n",
              "      <th>220731</th>\n",
              "      <td>2070426769</td>\n",
              "      <td>Peuple du ciel, suivi de 'Les Bergers\\\";Jean-M...</td>\n",
              "      <td>2003</td>\n",
              "      <td>Gallimard</td>\n",
              "      <td>http://images.amazon.com/images/P/2070426769.0...</td>\n",
              "      <td>http://images.amazon.com/images/P/2070426769.0...</td>\n",
              "      <td>http://images.amazon.com/images/P/2070426769.0...</td>\n",
              "      <td>NaN</td>\n",
              "    </tr>\n",
              "  </tbody>\n",
              "</table>\n",
              "</div>\n",
              "      <button class=\"colab-df-convert\" onclick=\"convertToInteractive('df-a14eefee-857e-402e-83a8-8d94e5c254c9')\"\n",
              "              title=\"Convert this dataframe to an interactive table.\"\n",
              "              style=\"display:none;\">\n",
              "        \n",
              "  <svg xmlns=\"http://www.w3.org/2000/svg\" height=\"24px\"viewBox=\"0 0 24 24\"\n",
              "       width=\"24px\">\n",
              "    <path d=\"M0 0h24v24H0V0z\" fill=\"none\"/>\n",
              "    <path d=\"M18.56 5.44l.94 2.06.94-2.06 2.06-.94-2.06-.94-.94-2.06-.94 2.06-2.06.94zm-11 1L8.5 8.5l.94-2.06 2.06-.94-2.06-.94L8.5 2.5l-.94 2.06-2.06.94zm10 10l.94 2.06.94-2.06 2.06-.94-2.06-.94-.94-2.06-.94 2.06-2.06.94z\"/><path d=\"M17.41 7.96l-1.37-1.37c-.4-.4-.92-.59-1.43-.59-.52 0-1.04.2-1.43.59L10.3 9.45l-7.72 7.72c-.78.78-.78 2.05 0 2.83L4 21.41c.39.39.9.59 1.41.59.51 0 1.02-.2 1.41-.59l7.78-7.78 2.81-2.81c.8-.78.8-2.07 0-2.86zM5.41 20L4 18.59l7.72-7.72 1.47 1.35L5.41 20z\"/>\n",
              "  </svg>\n",
              "      </button>\n",
              "      \n",
              "  <style>\n",
              "    .colab-df-container {\n",
              "      display:flex;\n",
              "      flex-wrap:wrap;\n",
              "      gap: 12px;\n",
              "    }\n",
              "\n",
              "    .colab-df-convert {\n",
              "      background-color: #E8F0FE;\n",
              "      border: none;\n",
              "      border-radius: 50%;\n",
              "      cursor: pointer;\n",
              "      display: none;\n",
              "      fill: #1967D2;\n",
              "      height: 32px;\n",
              "      padding: 0 0 0 0;\n",
              "      width: 32px;\n",
              "    }\n",
              "\n",
              "    .colab-df-convert:hover {\n",
              "      background-color: #E2EBFA;\n",
              "      box-shadow: 0px 1px 2px rgba(60, 64, 67, 0.3), 0px 1px 3px 1px rgba(60, 64, 67, 0.15);\n",
              "      fill: #174EA6;\n",
              "    }\n",
              "\n",
              "    [theme=dark] .colab-df-convert {\n",
              "      background-color: #3B4455;\n",
              "      fill: #D2E3FC;\n",
              "    }\n",
              "\n",
              "    [theme=dark] .colab-df-convert:hover {\n",
              "      background-color: #434B5C;\n",
              "      box-shadow: 0px 1px 3px 1px rgba(0, 0, 0, 0.15);\n",
              "      filter: drop-shadow(0px 1px 2px rgba(0, 0, 0, 0.3));\n",
              "      fill: #FFFFFF;\n",
              "    }\n",
              "  </style>\n",
              "\n",
              "      <script>\n",
              "        const buttonEl =\n",
              "          document.querySelector('#df-a14eefee-857e-402e-83a8-8d94e5c254c9 button.colab-df-convert');\n",
              "        buttonEl.style.display =\n",
              "          google.colab.kernel.accessAllowed ? 'block' : 'none';\n",
              "\n",
              "        async function convertToInteractive(key) {\n",
              "          const element = document.querySelector('#df-a14eefee-857e-402e-83a8-8d94e5c254c9');\n",
              "          const dataTable =\n",
              "            await google.colab.kernel.invokeFunction('convertToInteractive',\n",
              "                                                     [key], {});\n",
              "          if (!dataTable) return;\n",
              "\n",
              "          const docLinkHtml = 'Like what you see? Visit the ' +\n",
              "            '<a target=\"_blank\" href=https://colab.research.google.com/notebooks/data_table.ipynb>data table notebook</a>'\n",
              "            + ' to learn more about interactive tables.';\n",
              "          element.innerHTML = '';\n",
              "          dataTable['output_type'] = 'display_data';\n",
              "          await google.colab.output.renderOutput(dataTable, element);\n",
              "          const docLink = document.createElement('div');\n",
              "          docLink.innerHTML = docLinkHtml;\n",
              "          element.appendChild(docLink);\n",
              "        }\n",
              "      </script>\n",
              "    </div>\n",
              "  </div>\n",
              "  "
            ]
          },
          "metadata": {},
          "execution_count": 38
        }
      ]
    },
    {
      "cell_type": "code",
      "source": [
        "#making required corrections as above, keeping other fields intact\n",
        "books.loc[books.ISBN == '2070426769','Year-Of-Publication'] = 2003\n",
        "books.loc[books.ISBN == '2070426769','Book-Author'] = \"Jean-Marie Gustave Le ClÃ?Â©zio\"\n",
        "books.loc[books.ISBN == '2070426769','Publisher'] = \"Gallimard\"\n",
        "books.loc[books.ISBN == '2070426769','Book-Title'] = \"Peuple du ciel, suivi de 'Les Bergers\"\n",
        "\n",
        "\n",
        "books.loc[books.ISBN == '2070426769',:]"
      ],
      "metadata": {
        "colab": {
          "base_uri": "https://localhost:8080/",
          "height": 81
        },
        "id": "88rTbSg6WY8A",
        "outputId": "7d841073-0ed1-4b1f-eae0-4d507c06a84b"
      },
      "execution_count": 39,
      "outputs": [
        {
          "output_type": "execute_result",
          "data": {
            "text/plain": [
              "              ISBN                             Book-Title  \\\n",
              "220731  2070426769  Peuple du ciel, suivi de 'Les Bergers   \n",
              "\n",
              "                            Book-Author Year-Of-Publication  Publisher  \\\n",
              "220731  Jean-Marie Gustave Le ClÃ?Â©zio                2003  Gallimard   \n",
              "\n",
              "                                              Image-URL-S  \\\n",
              "220731  http://images.amazon.com/images/P/2070426769.0...   \n",
              "\n",
              "                                              Image-URL-M Image-URL-L  \n",
              "220731  http://images.amazon.com/images/P/2070426769.0...         NaN  "
            ],
            "text/html": [
              "\n",
              "  <div id=\"df-98c41f73-2a39-4d32-8a0f-6401d4735fb4\">\n",
              "    <div class=\"colab-df-container\">\n",
              "      <div>\n",
              "<style scoped>\n",
              "    .dataframe tbody tr th:only-of-type {\n",
              "        vertical-align: middle;\n",
              "    }\n",
              "\n",
              "    .dataframe tbody tr th {\n",
              "        vertical-align: top;\n",
              "    }\n",
              "\n",
              "    .dataframe thead th {\n",
              "        text-align: right;\n",
              "    }\n",
              "</style>\n",
              "<table border=\"1\" class=\"dataframe\">\n",
              "  <thead>\n",
              "    <tr style=\"text-align: right;\">\n",
              "      <th></th>\n",
              "      <th>ISBN</th>\n",
              "      <th>Book-Title</th>\n",
              "      <th>Book-Author</th>\n",
              "      <th>Year-Of-Publication</th>\n",
              "      <th>Publisher</th>\n",
              "      <th>Image-URL-S</th>\n",
              "      <th>Image-URL-M</th>\n",
              "      <th>Image-URL-L</th>\n",
              "    </tr>\n",
              "  </thead>\n",
              "  <tbody>\n",
              "    <tr>\n",
              "      <th>220731</th>\n",
              "      <td>2070426769</td>\n",
              "      <td>Peuple du ciel, suivi de 'Les Bergers</td>\n",
              "      <td>Jean-Marie Gustave Le ClÃ?Â©zio</td>\n",
              "      <td>2003</td>\n",
              "      <td>Gallimard</td>\n",
              "      <td>http://images.amazon.com/images/P/2070426769.0...</td>\n",
              "      <td>http://images.amazon.com/images/P/2070426769.0...</td>\n",
              "      <td>NaN</td>\n",
              "    </tr>\n",
              "  </tbody>\n",
              "</table>\n",
              "</div>\n",
              "      <button class=\"colab-df-convert\" onclick=\"convertToInteractive('df-98c41f73-2a39-4d32-8a0f-6401d4735fb4')\"\n",
              "              title=\"Convert this dataframe to an interactive table.\"\n",
              "              style=\"display:none;\">\n",
              "        \n",
              "  <svg xmlns=\"http://www.w3.org/2000/svg\" height=\"24px\"viewBox=\"0 0 24 24\"\n",
              "       width=\"24px\">\n",
              "    <path d=\"M0 0h24v24H0V0z\" fill=\"none\"/>\n",
              "    <path d=\"M18.56 5.44l.94 2.06.94-2.06 2.06-.94-2.06-.94-.94-2.06-.94 2.06-2.06.94zm-11 1L8.5 8.5l.94-2.06 2.06-.94-2.06-.94L8.5 2.5l-.94 2.06-2.06.94zm10 10l.94 2.06.94-2.06 2.06-.94-2.06-.94-.94-2.06-.94 2.06-2.06.94z\"/><path d=\"M17.41 7.96l-1.37-1.37c-.4-.4-.92-.59-1.43-.59-.52 0-1.04.2-1.43.59L10.3 9.45l-7.72 7.72c-.78.78-.78 2.05 0 2.83L4 21.41c.39.39.9.59 1.41.59.51 0 1.02-.2 1.41-.59l7.78-7.78 2.81-2.81c.8-.78.8-2.07 0-2.86zM5.41 20L4 18.59l7.72-7.72 1.47 1.35L5.41 20z\"/>\n",
              "  </svg>\n",
              "      </button>\n",
              "      \n",
              "  <style>\n",
              "    .colab-df-container {\n",
              "      display:flex;\n",
              "      flex-wrap:wrap;\n",
              "      gap: 12px;\n",
              "    }\n",
              "\n",
              "    .colab-df-convert {\n",
              "      background-color: #E8F0FE;\n",
              "      border: none;\n",
              "      border-radius: 50%;\n",
              "      cursor: pointer;\n",
              "      display: none;\n",
              "      fill: #1967D2;\n",
              "      height: 32px;\n",
              "      padding: 0 0 0 0;\n",
              "      width: 32px;\n",
              "    }\n",
              "\n",
              "    .colab-df-convert:hover {\n",
              "      background-color: #E2EBFA;\n",
              "      box-shadow: 0px 1px 2px rgba(60, 64, 67, 0.3), 0px 1px 3px 1px rgba(60, 64, 67, 0.15);\n",
              "      fill: #174EA6;\n",
              "    }\n",
              "\n",
              "    [theme=dark] .colab-df-convert {\n",
              "      background-color: #3B4455;\n",
              "      fill: #D2E3FC;\n",
              "    }\n",
              "\n",
              "    [theme=dark] .colab-df-convert:hover {\n",
              "      background-color: #434B5C;\n",
              "      box-shadow: 0px 1px 3px 1px rgba(0, 0, 0, 0.15);\n",
              "      filter: drop-shadow(0px 1px 2px rgba(0, 0, 0, 0.3));\n",
              "      fill: #FFFFFF;\n",
              "    }\n",
              "  </style>\n",
              "\n",
              "      <script>\n",
              "        const buttonEl =\n",
              "          document.querySelector('#df-98c41f73-2a39-4d32-8a0f-6401d4735fb4 button.colab-df-convert');\n",
              "        buttonEl.style.display =\n",
              "          google.colab.kernel.accessAllowed ? 'block' : 'none';\n",
              "\n",
              "        async function convertToInteractive(key) {\n",
              "          const element = document.querySelector('#df-98c41f73-2a39-4d32-8a0f-6401d4735fb4');\n",
              "          const dataTable =\n",
              "            await google.colab.kernel.invokeFunction('convertToInteractive',\n",
              "                                                     [key], {});\n",
              "          if (!dataTable) return;\n",
              "\n",
              "          const docLinkHtml = 'Like what you see? Visit the ' +\n",
              "            '<a target=\"_blank\" href=https://colab.research.google.com/notebooks/data_table.ipynb>data table notebook</a>'\n",
              "            + ' to learn more about interactive tables.';\n",
              "          element.innerHTML = '';\n",
              "          dataTable['output_type'] = 'display_data';\n",
              "          await google.colab.output.renderOutput(dataTable, element);\n",
              "          const docLink = document.createElement('div');\n",
              "          docLink.innerHTML = docLinkHtml;\n",
              "          element.appendChild(docLink);\n",
              "        }\n",
              "      </script>\n",
              "    </div>\n",
              "  </div>\n",
              "  "
            ]
          },
          "metadata": {},
          "execution_count": 39
        }
      ]
    },
    {
      "cell_type": "code",
      "source": [
        "books['Year-Of-Publication']=pd.to_numeric(books['Year-Of-Publication'], errors='coerce')\n",
        "\n",
        "print(sorted(books['Year-Of-Publication'].unique()))\n",
        "#Now it can be seen that yearOfPublication has all values as integers"
      ],
      "metadata": {
        "colab": {
          "base_uri": "https://localhost:8080/"
        },
        "id": "Ajpyi51HWaPw",
        "outputId": "449decb5-8386-432e-f0e8-80f8ec6d60fc"
      },
      "execution_count": 40,
      "outputs": [
        {
          "output_type": "stream",
          "name": "stdout",
          "text": [
            "[0, 1376, 1378, 1806, 1897, 1900, 1901, 1902, 1904, 1906, 1908, 1909, 1910, 1911, 1914, 1917, 1919, 1920, 1921, 1922, 1923, 1924, 1925, 1926, 1927, 1928, 1929, 1930, 1931, 1932, 1933, 1934, 1935, 1936, 1937, 1938, 1939, 1940, 1941, 1942, 1943, 1944, 1945, 1946, 1947, 1948, 1949, 1950, 1951, 1952, 1953, 1954, 1955, 1956, 1957, 1958, 1959, 1960, 1961, 1962, 1963, 1964, 1965, 1966, 1967, 1968, 1969, 1970, 1971, 1972, 1973, 1974, 1975, 1976, 1977, 1978, 1979, 1980, 1981, 1982, 1983, 1984, 1985, 1986, 1987, 1988, 1989, 1990, 1991, 1992, 1993, 1994, 1995, 1996, 1997, 1998, 1999, 2000, 2001, 2002, 2003, 2004, 2005, 2006, 2008, 2010, 2011, 2012, 2020, 2021, 2024, 2026, 2030, 2037, 2038, 2050]\n"
          ]
        }
      ]
    },
    {
      "cell_type": "markdown",
      "source": [
        "<font color='black'>The value 0 for Year-Of_Publication is invalid and as this dataset was published in 2004, We have assumed that the years after 2006 to be \n",
        "invalid and setting invalid years as NaN\n",
        "\n",
        "Reference of the fact: http://www2.informatik.uni-freiburg.de/~cziegler/BX/"
      ],
      "metadata": {
        "id": "dnqum410WeJc"
      }
    },
    {
      "cell_type": "code",
      "source": [
        "books.loc[(books['Year-Of-Publication'] > 2006) | (books['Year-Of-Publication'] == 0),'Year-Of-Publication'] = np.NAN\n",
        "\n",
        "#replacing NaNs with median value of Year-Of-Publication\n",
        "books['Year-Of-Publication'].fillna(round(books['Year-Of-Publication'].median()), inplace=True)"
      ],
      "metadata": {
        "id": "jYnVpzmsWcoI"
      },
      "execution_count": 41,
      "outputs": []
    },
    {
      "cell_type": "code",
      "source": [
        "#dropping last three columns containing image URLs which will not be required for analysis\n",
        "books.drop(['Image-URL-S', 'Image-URL-M', 'Image-URL-L'],axis=1,inplace=True)"
      ],
      "metadata": {
        "id": "l0g04p49WhaZ"
      },
      "execution_count": 42,
      "outputs": []
    },
    {
      "cell_type": "code",
      "source": [
        "books.isna().sum()"
      ],
      "metadata": {
        "colab": {
          "base_uri": "https://localhost:8080/"
        },
        "id": "dkMfRfzrWjCJ",
        "outputId": "00e9c829-2413-43ae-86b0-337d82ca8485"
      },
      "execution_count": 43,
      "outputs": [
        {
          "output_type": "execute_result",
          "data": {
            "text/plain": [
              "ISBN                   0\n",
              "Book-Title             0\n",
              "Book-Author            1\n",
              "Year-Of-Publication    0\n",
              "Publisher              2\n",
              "dtype: int64"
            ]
          },
          "metadata": {},
          "execution_count": 43
        }
      ]
    },
    {
      "cell_type": "code",
      "source": [
        "#exploring 'publisher' column\n",
        "books.loc[books.Publisher.isnull(),:]\n",
        "#two NaNs"
      ],
      "metadata": {
        "colab": {
          "base_uri": "https://localhost:8080/",
          "height": 112
        },
        "id": "Xq1DLGeBWkXR",
        "outputId": "0cf50a88-6934-4d45-f278-8984440691a2"
      },
      "execution_count": 44,
      "outputs": [
        {
          "output_type": "execute_result",
          "data": {
            "text/plain": [
              "              ISBN       Book-Title      Book-Author  Year-Of-Publication  \\\n",
              "128890  193169656X      Tyrant Moon  Elaine Corvidae               2002.0   \n",
              "129037  1931696993  Finders Keepers  Linnea Sinclair               2001.0   \n",
              "\n",
              "       Publisher  \n",
              "128890       NaN  \n",
              "129037       NaN  "
            ],
            "text/html": [
              "\n",
              "  <div id=\"df-47f46077-41f4-48ec-9453-420571ae1644\">\n",
              "    <div class=\"colab-df-container\">\n",
              "      <div>\n",
              "<style scoped>\n",
              "    .dataframe tbody tr th:only-of-type {\n",
              "        vertical-align: middle;\n",
              "    }\n",
              "\n",
              "    .dataframe tbody tr th {\n",
              "        vertical-align: top;\n",
              "    }\n",
              "\n",
              "    .dataframe thead th {\n",
              "        text-align: right;\n",
              "    }\n",
              "</style>\n",
              "<table border=\"1\" class=\"dataframe\">\n",
              "  <thead>\n",
              "    <tr style=\"text-align: right;\">\n",
              "      <th></th>\n",
              "      <th>ISBN</th>\n",
              "      <th>Book-Title</th>\n",
              "      <th>Book-Author</th>\n",
              "      <th>Year-Of-Publication</th>\n",
              "      <th>Publisher</th>\n",
              "    </tr>\n",
              "  </thead>\n",
              "  <tbody>\n",
              "    <tr>\n",
              "      <th>128890</th>\n",
              "      <td>193169656X</td>\n",
              "      <td>Tyrant Moon</td>\n",
              "      <td>Elaine Corvidae</td>\n",
              "      <td>2002.0</td>\n",
              "      <td>NaN</td>\n",
              "    </tr>\n",
              "    <tr>\n",
              "      <th>129037</th>\n",
              "      <td>1931696993</td>\n",
              "      <td>Finders Keepers</td>\n",
              "      <td>Linnea Sinclair</td>\n",
              "      <td>2001.0</td>\n",
              "      <td>NaN</td>\n",
              "    </tr>\n",
              "  </tbody>\n",
              "</table>\n",
              "</div>\n",
              "      <button class=\"colab-df-convert\" onclick=\"convertToInteractive('df-47f46077-41f4-48ec-9453-420571ae1644')\"\n",
              "              title=\"Convert this dataframe to an interactive table.\"\n",
              "              style=\"display:none;\">\n",
              "        \n",
              "  <svg xmlns=\"http://www.w3.org/2000/svg\" height=\"24px\"viewBox=\"0 0 24 24\"\n",
              "       width=\"24px\">\n",
              "    <path d=\"M0 0h24v24H0V0z\" fill=\"none\"/>\n",
              "    <path d=\"M18.56 5.44l.94 2.06.94-2.06 2.06-.94-2.06-.94-.94-2.06-.94 2.06-2.06.94zm-11 1L8.5 8.5l.94-2.06 2.06-.94-2.06-.94L8.5 2.5l-.94 2.06-2.06.94zm10 10l.94 2.06.94-2.06 2.06-.94-2.06-.94-.94-2.06-.94 2.06-2.06.94z\"/><path d=\"M17.41 7.96l-1.37-1.37c-.4-.4-.92-.59-1.43-.59-.52 0-1.04.2-1.43.59L10.3 9.45l-7.72 7.72c-.78.78-.78 2.05 0 2.83L4 21.41c.39.39.9.59 1.41.59.51 0 1.02-.2 1.41-.59l7.78-7.78 2.81-2.81c.8-.78.8-2.07 0-2.86zM5.41 20L4 18.59l7.72-7.72 1.47 1.35L5.41 20z\"/>\n",
              "  </svg>\n",
              "      </button>\n",
              "      \n",
              "  <style>\n",
              "    .colab-df-container {\n",
              "      display:flex;\n",
              "      flex-wrap:wrap;\n",
              "      gap: 12px;\n",
              "    }\n",
              "\n",
              "    .colab-df-convert {\n",
              "      background-color: #E8F0FE;\n",
              "      border: none;\n",
              "      border-radius: 50%;\n",
              "      cursor: pointer;\n",
              "      display: none;\n",
              "      fill: #1967D2;\n",
              "      height: 32px;\n",
              "      padding: 0 0 0 0;\n",
              "      width: 32px;\n",
              "    }\n",
              "\n",
              "    .colab-df-convert:hover {\n",
              "      background-color: #E2EBFA;\n",
              "      box-shadow: 0px 1px 2px rgba(60, 64, 67, 0.3), 0px 1px 3px 1px rgba(60, 64, 67, 0.15);\n",
              "      fill: #174EA6;\n",
              "    }\n",
              "\n",
              "    [theme=dark] .colab-df-convert {\n",
              "      background-color: #3B4455;\n",
              "      fill: #D2E3FC;\n",
              "    }\n",
              "\n",
              "    [theme=dark] .colab-df-convert:hover {\n",
              "      background-color: #434B5C;\n",
              "      box-shadow: 0px 1px 3px 1px rgba(0, 0, 0, 0.15);\n",
              "      filter: drop-shadow(0px 1px 2px rgba(0, 0, 0, 0.3));\n",
              "      fill: #FFFFFF;\n",
              "    }\n",
              "  </style>\n",
              "\n",
              "      <script>\n",
              "        const buttonEl =\n",
              "          document.querySelector('#df-47f46077-41f4-48ec-9453-420571ae1644 button.colab-df-convert');\n",
              "        buttonEl.style.display =\n",
              "          google.colab.kernel.accessAllowed ? 'block' : 'none';\n",
              "\n",
              "        async function convertToInteractive(key) {\n",
              "          const element = document.querySelector('#df-47f46077-41f4-48ec-9453-420571ae1644');\n",
              "          const dataTable =\n",
              "            await google.colab.kernel.invokeFunction('convertToInteractive',\n",
              "                                                     [key], {});\n",
              "          if (!dataTable) return;\n",
              "\n",
              "          const docLinkHtml = 'Like what you see? Visit the ' +\n",
              "            '<a target=\"_blank\" href=https://colab.research.google.com/notebooks/data_table.ipynb>data table notebook</a>'\n",
              "            + ' to learn more about interactive tables.';\n",
              "          element.innerHTML = '';\n",
              "          dataTable['output_type'] = 'display_data';\n",
              "          await google.colab.output.renderOutput(dataTable, element);\n",
              "          const docLink = document.createElement('div');\n",
              "          docLink.innerHTML = docLinkHtml;\n",
              "          element.appendChild(docLink);\n",
              "        }\n",
              "      </script>\n",
              "    </div>\n",
              "  </div>\n",
              "  "
            ]
          },
          "metadata": {},
          "execution_count": 44
        }
      ]
    },
    {
      "cell_type": "code",
      "source": [
        "#Filling Nan of Publisher with others\n",
        "books.Publisher.fillna('other',inplace=True)"
      ],
      "metadata": {
        "id": "2xdJywHSWmAR"
      },
      "execution_count": 45,
      "outputs": []
    },
    {
      "cell_type": "code",
      "source": [
        "#exploring 'Book-Author' column\n",
        "books.loc[books['Book-Author'].isnull(),:]"
      ],
      "metadata": {
        "colab": {
          "base_uri": "https://localhost:8080/",
          "height": 81
        },
        "id": "oNv4sjmmWpER",
        "outputId": "181a3df3-9e87-48fd-b6f3-5fa57cbdd147"
      },
      "execution_count": 46,
      "outputs": [
        {
          "output_type": "execute_result",
          "data": {
            "text/plain": [
              "              ISBN                                         Book-Title  \\\n",
              "187689  9627982032  The Credit Suisse Guide to Managing Your Perso...   \n",
              "\n",
              "       Book-Author  Year-Of-Publication                       Publisher  \n",
              "187689         NaN               1995.0  Edinburgh Financial Publishing  "
            ],
            "text/html": [
              "\n",
              "  <div id=\"df-f4b3fada-24c9-4afc-b4c1-e707a234a680\">\n",
              "    <div class=\"colab-df-container\">\n",
              "      <div>\n",
              "<style scoped>\n",
              "    .dataframe tbody tr th:only-of-type {\n",
              "        vertical-align: middle;\n",
              "    }\n",
              "\n",
              "    .dataframe tbody tr th {\n",
              "        vertical-align: top;\n",
              "    }\n",
              "\n",
              "    .dataframe thead th {\n",
              "        text-align: right;\n",
              "    }\n",
              "</style>\n",
              "<table border=\"1\" class=\"dataframe\">\n",
              "  <thead>\n",
              "    <tr style=\"text-align: right;\">\n",
              "      <th></th>\n",
              "      <th>ISBN</th>\n",
              "      <th>Book-Title</th>\n",
              "      <th>Book-Author</th>\n",
              "      <th>Year-Of-Publication</th>\n",
              "      <th>Publisher</th>\n",
              "    </tr>\n",
              "  </thead>\n",
              "  <tbody>\n",
              "    <tr>\n",
              "      <th>187689</th>\n",
              "      <td>9627982032</td>\n",
              "      <td>The Credit Suisse Guide to Managing Your Perso...</td>\n",
              "      <td>NaN</td>\n",
              "      <td>1995.0</td>\n",
              "      <td>Edinburgh Financial Publishing</td>\n",
              "    </tr>\n",
              "  </tbody>\n",
              "</table>\n",
              "</div>\n",
              "      <button class=\"colab-df-convert\" onclick=\"convertToInteractive('df-f4b3fada-24c9-4afc-b4c1-e707a234a680')\"\n",
              "              title=\"Convert this dataframe to an interactive table.\"\n",
              "              style=\"display:none;\">\n",
              "        \n",
              "  <svg xmlns=\"http://www.w3.org/2000/svg\" height=\"24px\"viewBox=\"0 0 24 24\"\n",
              "       width=\"24px\">\n",
              "    <path d=\"M0 0h24v24H0V0z\" fill=\"none\"/>\n",
              "    <path d=\"M18.56 5.44l.94 2.06.94-2.06 2.06-.94-2.06-.94-.94-2.06-.94 2.06-2.06.94zm-11 1L8.5 8.5l.94-2.06 2.06-.94-2.06-.94L8.5 2.5l-.94 2.06-2.06.94zm10 10l.94 2.06.94-2.06 2.06-.94-2.06-.94-.94-2.06-.94 2.06-2.06.94z\"/><path d=\"M17.41 7.96l-1.37-1.37c-.4-.4-.92-.59-1.43-.59-.52 0-1.04.2-1.43.59L10.3 9.45l-7.72 7.72c-.78.78-.78 2.05 0 2.83L4 21.41c.39.39.9.59 1.41.59.51 0 1.02-.2 1.41-.59l7.78-7.78 2.81-2.81c.8-.78.8-2.07 0-2.86zM5.41 20L4 18.59l7.72-7.72 1.47 1.35L5.41 20z\"/>\n",
              "  </svg>\n",
              "      </button>\n",
              "      \n",
              "  <style>\n",
              "    .colab-df-container {\n",
              "      display:flex;\n",
              "      flex-wrap:wrap;\n",
              "      gap: 12px;\n",
              "    }\n",
              "\n",
              "    .colab-df-convert {\n",
              "      background-color: #E8F0FE;\n",
              "      border: none;\n",
              "      border-radius: 50%;\n",
              "      cursor: pointer;\n",
              "      display: none;\n",
              "      fill: #1967D2;\n",
              "      height: 32px;\n",
              "      padding: 0 0 0 0;\n",
              "      width: 32px;\n",
              "    }\n",
              "\n",
              "    .colab-df-convert:hover {\n",
              "      background-color: #E2EBFA;\n",
              "      box-shadow: 0px 1px 2px rgba(60, 64, 67, 0.3), 0px 1px 3px 1px rgba(60, 64, 67, 0.15);\n",
              "      fill: #174EA6;\n",
              "    }\n",
              "\n",
              "    [theme=dark] .colab-df-convert {\n",
              "      background-color: #3B4455;\n",
              "      fill: #D2E3FC;\n",
              "    }\n",
              "\n",
              "    [theme=dark] .colab-df-convert:hover {\n",
              "      background-color: #434B5C;\n",
              "      box-shadow: 0px 1px 3px 1px rgba(0, 0, 0, 0.15);\n",
              "      filter: drop-shadow(0px 1px 2px rgba(0, 0, 0, 0.3));\n",
              "      fill: #FFFFFF;\n",
              "    }\n",
              "  </style>\n",
              "\n",
              "      <script>\n",
              "        const buttonEl =\n",
              "          document.querySelector('#df-f4b3fada-24c9-4afc-b4c1-e707a234a680 button.colab-df-convert');\n",
              "        buttonEl.style.display =\n",
              "          google.colab.kernel.accessAllowed ? 'block' : 'none';\n",
              "\n",
              "        async function convertToInteractive(key) {\n",
              "          const element = document.querySelector('#df-f4b3fada-24c9-4afc-b4c1-e707a234a680');\n",
              "          const dataTable =\n",
              "            await google.colab.kernel.invokeFunction('convertToInteractive',\n",
              "                                                     [key], {});\n",
              "          if (!dataTable) return;\n",
              "\n",
              "          const docLinkHtml = 'Like what you see? Visit the ' +\n",
              "            '<a target=\"_blank\" href=https://colab.research.google.com/notebooks/data_table.ipynb>data table notebook</a>'\n",
              "            + ' to learn more about interactive tables.';\n",
              "          element.innerHTML = '';\n",
              "          dataTable['output_type'] = 'display_data';\n",
              "          await google.colab.output.renderOutput(dataTable, element);\n",
              "          const docLink = document.createElement('div');\n",
              "          docLink.innerHTML = docLinkHtml;\n",
              "          element.appendChild(docLink);\n",
              "        }\n",
              "      </script>\n",
              "    </div>\n",
              "  </div>\n",
              "  "
            ]
          },
          "metadata": {},
          "execution_count": 46
        }
      ]
    },
    {
      "cell_type": "code",
      "source": [
        "#Filling Nan of Book-Author with others\n",
        "books['Book-Author'].fillna('other',inplace=True)"
      ],
      "metadata": {
        "id": "5sOWOZYoWqmR"
      },
      "execution_count": 47,
      "outputs": []
    },
    {
      "cell_type": "code",
      "source": [
        "books.isna().sum()"
      ],
      "metadata": {
        "colab": {
          "base_uri": "https://localhost:8080/"
        },
        "id": "YkhFrXrWWr5g",
        "outputId": "e8b1d7ea-4502-4865-e733-ffaaabd3aced"
      },
      "execution_count": 48,
      "outputs": [
        {
          "output_type": "execute_result",
          "data": {
            "text/plain": [
              "ISBN                   0\n",
              "Book-Title             0\n",
              "Book-Author            0\n",
              "Year-Of-Publication    0\n",
              "Publisher              0\n",
              "dtype: int64"
            ]
          },
          "metadata": {},
          "execution_count": 48
        }
      ]
    },
    {
      "cell_type": "markdown",
      "source": [
        "## <font color='darkblue'>**3. Ratings_Dataset**"
      ],
      "metadata": {
        "id": "nY0F3kYPWvqY"
      }
    },
    {
      "cell_type": "code",
      "source": [
        "ratings.head(2)"
      ],
      "metadata": {
        "colab": {
          "base_uri": "https://localhost:8080/",
          "height": 112
        },
        "id": "WgSKRxv7WtM5",
        "outputId": "7f65f49b-80ab-4b9c-d858-bc69bbacdfe5"
      },
      "execution_count": 49,
      "outputs": [
        {
          "output_type": "execute_result",
          "data": {
            "text/plain": [
              "   User-ID        ISBN  Book-Rating\n",
              "0   276725  034545104X            0\n",
              "1   276726  0155061224            5"
            ],
            "text/html": [
              "\n",
              "  <div id=\"df-a4ff58b6-7ba8-450c-b2c2-a41237b18eee\">\n",
              "    <div class=\"colab-df-container\">\n",
              "      <div>\n",
              "<style scoped>\n",
              "    .dataframe tbody tr th:only-of-type {\n",
              "        vertical-align: middle;\n",
              "    }\n",
              "\n",
              "    .dataframe tbody tr th {\n",
              "        vertical-align: top;\n",
              "    }\n",
              "\n",
              "    .dataframe thead th {\n",
              "        text-align: right;\n",
              "    }\n",
              "</style>\n",
              "<table border=\"1\" class=\"dataframe\">\n",
              "  <thead>\n",
              "    <tr style=\"text-align: right;\">\n",
              "      <th></th>\n",
              "      <th>User-ID</th>\n",
              "      <th>ISBN</th>\n",
              "      <th>Book-Rating</th>\n",
              "    </tr>\n",
              "  </thead>\n",
              "  <tbody>\n",
              "    <tr>\n",
              "      <th>0</th>\n",
              "      <td>276725</td>\n",
              "      <td>034545104X</td>\n",
              "      <td>0</td>\n",
              "    </tr>\n",
              "    <tr>\n",
              "      <th>1</th>\n",
              "      <td>276726</td>\n",
              "      <td>0155061224</td>\n",
              "      <td>5</td>\n",
              "    </tr>\n",
              "  </tbody>\n",
              "</table>\n",
              "</div>\n",
              "      <button class=\"colab-df-convert\" onclick=\"convertToInteractive('df-a4ff58b6-7ba8-450c-b2c2-a41237b18eee')\"\n",
              "              title=\"Convert this dataframe to an interactive table.\"\n",
              "              style=\"display:none;\">\n",
              "        \n",
              "  <svg xmlns=\"http://www.w3.org/2000/svg\" height=\"24px\"viewBox=\"0 0 24 24\"\n",
              "       width=\"24px\">\n",
              "    <path d=\"M0 0h24v24H0V0z\" fill=\"none\"/>\n",
              "    <path d=\"M18.56 5.44l.94 2.06.94-2.06 2.06-.94-2.06-.94-.94-2.06-.94 2.06-2.06.94zm-11 1L8.5 8.5l.94-2.06 2.06-.94-2.06-.94L8.5 2.5l-.94 2.06-2.06.94zm10 10l.94 2.06.94-2.06 2.06-.94-2.06-.94-.94-2.06-.94 2.06-2.06.94z\"/><path d=\"M17.41 7.96l-1.37-1.37c-.4-.4-.92-.59-1.43-.59-.52 0-1.04.2-1.43.59L10.3 9.45l-7.72 7.72c-.78.78-.78 2.05 0 2.83L4 21.41c.39.39.9.59 1.41.59.51 0 1.02-.2 1.41-.59l7.78-7.78 2.81-2.81c.8-.78.8-2.07 0-2.86zM5.41 20L4 18.59l7.72-7.72 1.47 1.35L5.41 20z\"/>\n",
              "  </svg>\n",
              "      </button>\n",
              "      \n",
              "  <style>\n",
              "    .colab-df-container {\n",
              "      display:flex;\n",
              "      flex-wrap:wrap;\n",
              "      gap: 12px;\n",
              "    }\n",
              "\n",
              "    .colab-df-convert {\n",
              "      background-color: #E8F0FE;\n",
              "      border: none;\n",
              "      border-radius: 50%;\n",
              "      cursor: pointer;\n",
              "      display: none;\n",
              "      fill: #1967D2;\n",
              "      height: 32px;\n",
              "      padding: 0 0 0 0;\n",
              "      width: 32px;\n",
              "    }\n",
              "\n",
              "    .colab-df-convert:hover {\n",
              "      background-color: #E2EBFA;\n",
              "      box-shadow: 0px 1px 2px rgba(60, 64, 67, 0.3), 0px 1px 3px 1px rgba(60, 64, 67, 0.15);\n",
              "      fill: #174EA6;\n",
              "    }\n",
              "\n",
              "    [theme=dark] .colab-df-convert {\n",
              "      background-color: #3B4455;\n",
              "      fill: #D2E3FC;\n",
              "    }\n",
              "\n",
              "    [theme=dark] .colab-df-convert:hover {\n",
              "      background-color: #434B5C;\n",
              "      box-shadow: 0px 1px 3px 1px rgba(0, 0, 0, 0.15);\n",
              "      filter: drop-shadow(0px 1px 2px rgba(0, 0, 0, 0.3));\n",
              "      fill: #FFFFFF;\n",
              "    }\n",
              "  </style>\n",
              "\n",
              "      <script>\n",
              "        const buttonEl =\n",
              "          document.querySelector('#df-a4ff58b6-7ba8-450c-b2c2-a41237b18eee button.colab-df-convert');\n",
              "        buttonEl.style.display =\n",
              "          google.colab.kernel.accessAllowed ? 'block' : 'none';\n",
              "\n",
              "        async function convertToInteractive(key) {\n",
              "          const element = document.querySelector('#df-a4ff58b6-7ba8-450c-b2c2-a41237b18eee');\n",
              "          const dataTable =\n",
              "            await google.colab.kernel.invokeFunction('convertToInteractive',\n",
              "                                                     [key], {});\n",
              "          if (!dataTable) return;\n",
              "\n",
              "          const docLinkHtml = 'Like what you see? Visit the ' +\n",
              "            '<a target=\"_blank\" href=https://colab.research.google.com/notebooks/data_table.ipynb>data table notebook</a>'\n",
              "            + ' to learn more about interactive tables.';\n",
              "          element.innerHTML = '';\n",
              "          dataTable['output_type'] = 'display_data';\n",
              "          await google.colab.output.renderOutput(dataTable, element);\n",
              "          const docLink = document.createElement('div');\n",
              "          docLink.innerHTML = docLinkHtml;\n",
              "          element.appendChild(docLink);\n",
              "        }\n",
              "      </script>\n",
              "    </div>\n",
              "  </div>\n",
              "  "
            ]
          },
          "metadata": {},
          "execution_count": 49
        }
      ]
    },
    {
      "cell_type": "markdown",
      "source": [
        "<font color='black'>Ratings dataset should have books only which exist in our books dataset"
      ],
      "metadata": {
        "id": "TUdequVfW0eS"
      }
    },
    {
      "cell_type": "code",
      "source": [
        "ratings_new = ratings[ratings.ISBN.isin(books.ISBN)]\n",
        "ratings.shape,ratings_new.shape"
      ],
      "metadata": {
        "colab": {
          "base_uri": "https://localhost:8080/"
        },
        "id": "0gkOImaqWyqR",
        "outputId": "ac41449d-8f49-44ba-cd86-2b3f32694951"
      },
      "execution_count": 50,
      "outputs": [
        {
          "output_type": "execute_result",
          "data": {
            "text/plain": [
              "((1149780, 3), (1031136, 3))"
            ]
          },
          "metadata": {},
          "execution_count": 50
        }
      ]
    },
    {
      "cell_type": "markdown",
      "source": [
        "<font color='black'>It can be seen that many rows having book ISBN not part of books dataset got dropped off<font color='black'>It can be seen that many rows having book ISBN not part of books dataset got dropped off"
      ],
      "metadata": {
        "id": "XAjO5vTaW48S"
      }
    },
    {
      "cell_type": "markdown",
      "source": [
        "<font color='black'>Ratings dataset should have ratings from users which exist in users dataset."
      ],
      "metadata": {
        "id": "ZgI87A85W4-l"
      }
    },
    {
      "cell_type": "code",
      "source": [
        "print(\"Shape of dataset before dropping\",ratings_new.shape)\n",
        "ratings_new = ratings_new[ratings_new['User-ID'].isin(users['User-ID'])]\n",
        "print(\"shape of dataset after dropping\",ratings_new.shape)"
      ],
      "metadata": {
        "colab": {
          "base_uri": "https://localhost:8080/"
        },
        "id": "bpyDNF7kW2QZ",
        "outputId": "4d39218d-0aed-4511-d237-a94a20eea9ab"
      },
      "execution_count": 51,
      "outputs": [
        {
          "output_type": "stream",
          "name": "stdout",
          "text": [
            "Shape of dataset before dropping (1031136, 3)\n",
            "shape of dataset after dropping (1031136, 3)\n"
          ]
        }
      ]
    },
    {
      "cell_type": "markdown",
      "source": [
        "<font color='black'>It can be seen that no new user was there in ratings dataset."
      ],
      "metadata": {
        "id": "UkuM0njEXAFh"
      }
    },
    {
      "cell_type": "markdown",
      "source": [
        "<font color='black'>Let's see how the ratings are distributed"
      ],
      "metadata": {
        "id": "0HugxE2XXALB"
      }
    },
    {
      "cell_type": "code",
      "source": [
        "plt.rc(\"font\", size=15)\n",
        "ratings_new['Book-Rating'].value_counts(sort=False).plot(kind='bar')\n",
        "plt.title('Rating Distribution\\n')\n",
        "plt.xlabel('Rating')\n",
        "plt.ylabel('Count')\n",
        "plt.show()"
      ],
      "metadata": {
        "colab": {
          "base_uri": "https://localhost:8080/",
          "height": 354
        },
        "id": "lN9gBeRbW-ZQ",
        "outputId": "233d44c5-18c7-46e7-c82e-4fa9d01672b1"
      },
      "execution_count": 52,
      "outputs": [
        {
          "output_type": "display_data",
          "data": {
            "text/plain": [
              "<Figure size 432x288 with 1 Axes>"
            ],
            "image/png": "[encoded data removed]"
          },
          "metadata": {}
        }
      ]
    },
    {
      "cell_type": "markdown",
      "source": [
        "<font color='black'>The ratings are very unevenly distributed, and the vast majority of ratings are 0 .As quoted in the description of the dataset - BX-Book-Ratings contains the book rating information. Ratings are either explicit, expressed on a scale from 1-10 higher values denoting higher appreciation, or implicit, expressed by 0.Hence segragating implicit and explict ratings datasets"
      ],
      "metadata": {
        "id": "s5ec8UZ9XGIi"
      }
    },
    {
      "cell_type": "code",
      "source": [
        "#Hence segragating implicit and explict ratings datasets\n",
        "ratings_explicit = ratings_new[ratings_new['Book-Rating'] != 0]\n",
        "ratings_implicit = ratings_new[ratings_new['Book-Rating'] == 0]"
      ],
      "metadata": {
        "id": "bvRp1_ZQXEf_"
      },
      "execution_count": 53,
      "outputs": []
    },
    {
      "cell_type": "code",
      "source": [
        "print('ratings_explicit dataset shape',ratings_explicit.shape)\n",
        "print('ratings_implicit dataset',ratings_implicit.shape)"
      ],
      "metadata": {
        "colab": {
          "base_uri": "https://localhost:8080/"
        },
        "id": "ZRRhbc-RXHwI",
        "outputId": "d94862a5-64ec-416b-984c-76874aa11eef"
      },
      "execution_count": 54,
      "outputs": [
        {
          "output_type": "stream",
          "name": "stdout",
          "text": [
            "ratings_explicit dataset shape (383842, 3)\n",
            "ratings_implicit dataset (647294, 3)\n"
          ]
        }
      ]
    },
    {
      "cell_type": "code",
      "source": [
        "plt.style.use('fivethirtyeight')\n",
        "plt.figure(figsize=(8, 6), dpi=100)\n",
        "sns.countplot(data=ratings_explicit , x='Book-Rating', palette='Set1')"
      ],
      "metadata": {
        "colab": {
          "base_uri": "https://localhost:8080/",
          "height": 592
        },
        "id": "65sckN1GXJOH",
        "outputId": "672efd01-9dd4-43d9-9677-1c7c126b747c"
      },
      "execution_count": 55,
      "outputs": [
        {
          "output_type": "execute_result",
          "data": {
            "text/plain": [
              "<matplotlib.axes._subplots.AxesSubplot at 0x7f9aa95bfd50>"
            ]
          },
          "metadata": {},
          "execution_count": 55
        },
        {
          "output_type": "display_data",
          "data": {
            "text/plain": [
              "<Figure size 800x600 with 1 Axes>"
            ],
            "image/png": "[encoded data removed]"
          },
          "metadata": {}
        }
      ]
    },
    {
      "cell_type": "markdown",
      "source": [
        "<font color='black'>It can be observe that higher ratings are more common amongst users and rating 8 has been rated highest number of times"
      ],
      "metadata": {
        "id": "yIiQANdEXM-l"
      }
    },
    {
      "cell_type": "markdown",
      "source": [
        "<font color= 'black'>Let's find the top 5 books which are rated by most number of users"
      ],
      "metadata": {
        "id": "fpFsQCP8XNF7"
      }
    },
    {
      "cell_type": "code",
      "source": [
        "rating_count = pd.DataFrame(ratings_explicit.groupby('ISBN')['Book-Rating'].count())\n",
        "rating_count.sort_values('Book-Rating', ascending=False).head()"
      ],
      "metadata": {
        "colab": {
          "base_uri": "https://localhost:8080/",
          "height": 238
        },
        "id": "soQi0PRTXKqh",
        "outputId": "1ac14104-2158-4006-b4cd-a69f3f3c16a7"
      },
      "execution_count": 56,
      "outputs": [
        {
          "output_type": "execute_result",
          "data": {
            "text/plain": [
              "            Book-Rating\n",
              "ISBN                   \n",
              "0316666343          707\n",
              "0971880107          581\n",
              "0385504209          487\n",
              "0312195516          383\n",
              "0060928336          320"
            ],
            "text/html": [
              "\n",
              "  <div id=\"df-9f235133-8354-4ceb-b46c-74d711ddf99b\">\n",
              "    <div class=\"colab-df-container\">\n",
              "      <div>\n",
              "<style scoped>\n",
              "    .dataframe tbody tr th:only-of-type {\n",
              "        vertical-align: middle;\n",
              "    }\n",
              "\n",
              "    .dataframe tbody tr th {\n",
              "        vertical-align: top;\n",
              "    }\n",
              "\n",
              "    .dataframe thead th {\n",
              "        text-align: right;\n",
              "    }\n",
              "</style>\n",
              "<table border=\"1\" class=\"dataframe\">\n",
              "  <thead>\n",
              "    <tr style=\"text-align: right;\">\n",
              "      <th></th>\n",
              "      <th>Book-Rating</th>\n",
              "    </tr>\n",
              "    <tr>\n",
              "      <th>ISBN</th>\n",
              "      <th></th>\n",
              "    </tr>\n",
              "  </thead>\n",
              "  <tbody>\n",
              "    <tr>\n",
              "      <th>0316666343</th>\n",
              "      <td>707</td>\n",
              "    </tr>\n",
              "    <tr>\n",
              "      <th>0971880107</th>\n",
              "      <td>581</td>\n",
              "    </tr>\n",
              "    <tr>\n",
              "      <th>0385504209</th>\n",
              "      <td>487</td>\n",
              "    </tr>\n",
              "    <tr>\n",
              "      <th>0312195516</th>\n",
              "      <td>383</td>\n",
              "    </tr>\n",
              "    <tr>\n",
              "      <th>0060928336</th>\n",
              "      <td>320</td>\n",
              "    </tr>\n",
              "  </tbody>\n",
              "</table>\n",
              "</div>\n",
              "      <button class=\"colab-df-convert\" onclick=\"convertToInteractive('df-9f235133-8354-4ceb-b46c-74d711ddf99b')\"\n",
              "              title=\"Convert this dataframe to an interactive table.\"\n",
              "              style=\"display:none;\">\n",
              "        \n",
              "  <svg xmlns=\"http://www.w3.org/2000/svg\" height=\"24px\"viewBox=\"0 0 24 24\"\n",
              "       width=\"24px\">\n",
              "    <path d=\"M0 0h24v24H0V0z\" fill=\"none\"/>\n",
              "    <path d=\"M18.56 5.44l.94 2.06.94-2.06 2.06-.94-2.06-.94-.94-2.06-.94 2.06-2.06.94zm-11 1L8.5 8.5l.94-2.06 2.06-.94-2.06-.94L8.5 2.5l-.94 2.06-2.06.94zm10 10l.94 2.06.94-2.06 2.06-.94-2.06-.94-.94-2.06-.94 2.06-2.06.94z\"/><path d=\"M17.41 7.96l-1.37-1.37c-.4-.4-.92-.59-1.43-.59-.52 0-1.04.2-1.43.59L10.3 9.45l-7.72 7.72c-.78.78-.78 2.05 0 2.83L4 21.41c.39.39.9.59 1.41.59.51 0 1.02-.2 1.41-.59l7.78-7.78 2.81-2.81c.8-.78.8-2.07 0-2.86zM5.41 20L4 18.59l7.72-7.72 1.47 1.35L5.41 20z\"/>\n",
              "  </svg>\n",
              "      </button>\n",
              "      \n",
              "  <style>\n",
              "    .colab-df-container {\n",
              "      display:flex;\n",
              "      flex-wrap:wrap;\n",
              "      gap: 12px;\n",
              "    }\n",
              "\n",
              "    .colab-df-convert {\n",
              "      background-color: #E8F0FE;\n",
              "      border: none;\n",
              "      border-radius: 50%;\n",
              "      cursor: pointer;\n",
              "      display: none;\n",
              "      fill: #1967D2;\n",
              "      height: 32px;\n",
              "      padding: 0 0 0 0;\n",
              "      width: 32px;\n",
              "    }\n",
              "\n",
              "    .colab-df-convert:hover {\n",
              "      background-color: #E2EBFA;\n",
              "      box-shadow: 0px 1px 2px rgba(60, 64, 67, 0.3), 0px 1px 3px 1px rgba(60, 64, 67, 0.15);\n",
              "      fill: #174EA6;\n",
              "    }\n",
              "\n",
              "    [theme=dark] .colab-df-convert {\n",
              "      background-color: #3B4455;\n",
              "      fill: #D2E3FC;\n",
              "    }\n",
              "\n",
              "    [theme=dark] .colab-df-convert:hover {\n",
              "      background-color: #434B5C;\n",
              "      box-shadow: 0px 1px 3px 1px rgba(0, 0, 0, 0.15);\n",
              "      filter: drop-shadow(0px 1px 2px rgba(0, 0, 0, 0.3));\n",
              "      fill: #FFFFFF;\n",
              "    }\n",
              "  </style>\n",
              "\n",
              "      <script>\n",
              "        const buttonEl =\n",
              "          document.querySelector('#df-9f235133-8354-4ceb-b46c-74d711ddf99b button.colab-df-convert');\n",
              "        buttonEl.style.display =\n",
              "          google.colab.kernel.accessAllowed ? 'block' : 'none';\n",
              "\n",
              "        async function convertToInteractive(key) {\n",
              "          const element = document.querySelector('#df-9f235133-8354-4ceb-b46c-74d711ddf99b');\n",
              "          const dataTable =\n",
              "            await google.colab.kernel.invokeFunction('convertToInteractive',\n",
              "                                                     [key], {});\n",
              "          if (!dataTable) return;\n",
              "\n",
              "          const docLinkHtml = 'Like what you see? Visit the ' +\n",
              "            '<a target=\"_blank\" href=https://colab.research.google.com/notebooks/data_table.ipynb>data table notebook</a>'\n",
              "            + ' to learn more about interactive tables.';\n",
              "          element.innerHTML = '';\n",
              "          dataTable['output_type'] = 'display_data';\n",
              "          await google.colab.output.renderOutput(dataTable, element);\n",
              "          const docLink = document.createElement('div');\n",
              "          docLink.innerHTML = docLinkHtml;\n",
              "          element.appendChild(docLink);\n",
              "        }\n",
              "      </script>\n",
              "    </div>\n",
              "  </div>\n",
              "  "
            ]
          },
          "metadata": {},
          "execution_count": 56
        }
      ]
    },
    {
      "cell_type": "markdown",
      "source": [
        "<font color= 'black'>The book with ISBN '0316666343' received the most rating counts. Let’s find out what book it is, and what books are in the top 5."
      ],
      "metadata": {
        "id": "nzWQzdyQXTjS"
      }
    },
    {
      "cell_type": "code",
      "source": [
        "most_rated_books = pd.DataFrame(['0316666343', '0971880107', '0385504209', '0312195516', '0060928336'], index=np.arange(5), columns = ['ISBN'])\n",
        "most_rated_books_summary = pd.merge(most_rated_books, books, on='ISBN')\n",
        "most_rated_books_summary"
      ],
      "metadata": {
        "colab": {
          "base_uri": "https://localhost:8080/",
          "height": 206
        },
        "id": "wy4alMtMXR2J",
        "outputId": "4b93e9b3-6b37-4d27-8d7f-ad34b6a19b01"
      },
      "execution_count": 57,
      "outputs": [
        {
          "output_type": "execute_result",
          "data": {
            "text/plain": [
              "         ISBN                                       Book-Title    Book-Author  \\\n",
              "0  0316666343                        The Lovely Bones: A Novel   Alice Sebold   \n",
              "1  0971880107                                      Wild Animus   Rich Shapero   \n",
              "2  0385504209                                The Da Vinci Code      Dan Brown   \n",
              "3  0312195516              The Red Tent (Bestselling Backlist)  Anita Diamant   \n",
              "4  0060928336  Divine Secrets of the Ya-Ya Sisterhood: A Novel  Rebecca Wells   \n",
              "\n",
              "   Year-Of-Publication      Publisher  \n",
              "0               2002.0  Little, Brown  \n",
              "1               2004.0        Too Far  \n",
              "2               2003.0      Doubleday  \n",
              "3               1998.0    Picador USA  \n",
              "4               1997.0      Perennial  "
            ],
            "text/html": [
              "\n",
              "  <div id=\"df-2e12bcbe-bbfe-4d09-80fa-b4349c117591\">\n",
              "    <div class=\"colab-df-container\">\n",
              "      <div>\n",
              "<style scoped>\n",
              "    .dataframe tbody tr th:only-of-type {\n",
              "        vertical-align: middle;\n",
              "    }\n",
              "\n",
              "    .dataframe tbody tr th {\n",
              "        vertical-align: top;\n",
              "    }\n",
              "\n",
              "    .dataframe thead th {\n",
              "        text-align: right;\n",
              "    }\n",
              "</style>\n",
              "<table border=\"1\" class=\"dataframe\">\n",
              "  <thead>\n",
              "    <tr style=\"text-align: right;\">\n",
              "      <th></th>\n",
              "      <th>ISBN</th>\n",
              "      <th>Book-Title</th>\n",
              "      <th>Book-Author</th>\n",
              "      <th>Year-Of-Publication</th>\n",
              "      <th>Publisher</th>\n",
              "    </tr>\n",
              "  </thead>\n",
              "  <tbody>\n",
              "    <tr>\n",
              "      <th>0</th>\n",
              "      <td>0316666343</td>\n",
              "      <td>The Lovely Bones: A Novel</td>\n",
              "      <td>Alice Sebold</td>\n",
              "      <td>2002.0</td>\n",
              "      <td>Little, Brown</td>\n",
              "    </tr>\n",
              "    <tr>\n",
              "      <th>1</th>\n",
              "      <td>0971880107</td>\n",
              "      <td>Wild Animus</td>\n",
              "      <td>Rich Shapero</td>\n",
              "      <td>2004.0</td>\n",
              "      <td>Too Far</td>\n",
              "    </tr>\n",
              "    <tr>\n",
              "      <th>2</th>\n",
              "      <td>0385504209</td>\n",
              "      <td>The Da Vinci Code</td>\n",
              "      <td>Dan Brown</td>\n",
              "      <td>2003.0</td>\n",
              "      <td>Doubleday</td>\n",
              "    </tr>\n",
              "    <tr>\n",
              "      <th>3</th>\n",
              "      <td>0312195516</td>\n",
              "      <td>The Red Tent (Bestselling Backlist)</td>\n",
              "      <td>Anita Diamant</td>\n",
              "      <td>1998.0</td>\n",
              "      <td>Picador USA</td>\n",
              "    </tr>\n",
              "    <tr>\n",
              "      <th>4</th>\n",
              "      <td>0060928336</td>\n",
              "      <td>Divine Secrets of the Ya-Ya Sisterhood: A Novel</td>\n",
              "      <td>Rebecca Wells</td>\n",
              "      <td>1997.0</td>\n",
              "      <td>Perennial</td>\n",
              "    </tr>\n",
              "  </tbody>\n",
              "</table>\n",
              "</div>\n",
              "      <button class=\"colab-df-convert\" onclick=\"convertToInteractive('df-2e12bcbe-bbfe-4d09-80fa-b4349c117591')\"\n",
              "              title=\"Convert this dataframe to an interactive table.\"\n",
              "              style=\"display:none;\">\n",
              "        \n",
              "  <svg xmlns=\"http://www.w3.org/2000/svg\" height=\"24px\"viewBox=\"0 0 24 24\"\n",
              "       width=\"24px\">\n",
              "    <path d=\"M0 0h24v24H0V0z\" fill=\"none\"/>\n",
              "    <path d=\"M18.56 5.44l.94 2.06.94-2.06 2.06-.94-2.06-.94-.94-2.06-.94 2.06-2.06.94zm-11 1L8.5 8.5l.94-2.06 2.06-.94-2.06-.94L8.5 2.5l-.94 2.06-2.06.94zm10 10l.94 2.06.94-2.06 2.06-.94-2.06-.94-.94-2.06-.94 2.06-2.06.94z\"/><path d=\"M17.41 7.96l-1.37-1.37c-.4-.4-.92-.59-1.43-.59-.52 0-1.04.2-1.43.59L10.3 9.45l-7.72 7.72c-.78.78-.78 2.05 0 2.83L4 21.41c.39.39.9.59 1.41.59.51 0 1.02-.2 1.41-.59l7.78-7.78 2.81-2.81c.8-.78.8-2.07 0-2.86zM5.41 20L4 18.59l7.72-7.72 1.47 1.35L5.41 20z\"/>\n",
              "  </svg>\n",
              "      </button>\n",
              "      \n",
              "  <style>\n",
              "    .colab-df-container {\n",
              "      display:flex;\n",
              "      flex-wrap:wrap;\n",
              "      gap: 12px;\n",
              "    }\n",
              "\n",
              "    .colab-df-convert {\n",
              "      background-color: #E8F0FE;\n",
              "      border: none;\n",
              "      border-radius: 50%;\n",
              "      cursor: pointer;\n",
              "      display: none;\n",
              "      fill: #1967D2;\n",
              "      height: 32px;\n",
              "      padding: 0 0 0 0;\n",
              "      width: 32px;\n",
              "    }\n",
              "\n",
              "    .colab-df-convert:hover {\n",
              "      background-color: #E2EBFA;\n",
              "      box-shadow: 0px 1px 2px rgba(60, 64, 67, 0.3), 0px 1px 3px 1px rgba(60, 64, 67, 0.15);\n",
              "      fill: #174EA6;\n",
              "    }\n",
              "\n",
              "    [theme=dark] .colab-df-convert {\n",
              "      background-color: #3B4455;\n",
              "      fill: #D2E3FC;\n",
              "    }\n",
              "\n",
              "    [theme=dark] .colab-df-convert:hover {\n",
              "      background-color: #434B5C;\n",
              "      box-shadow: 0px 1px 3px 1px rgba(0, 0, 0, 0.15);\n",
              "      filter: drop-shadow(0px 1px 2px rgba(0, 0, 0, 0.3));\n",
              "      fill: #FFFFFF;\n",
              "    }\n",
              "  </style>\n",
              "\n",
              "      <script>\n",
              "        const buttonEl =\n",
              "          document.querySelector('#df-2e12bcbe-bbfe-4d09-80fa-b4349c117591 button.colab-df-convert');\n",
              "        buttonEl.style.display =\n",
              "          google.colab.kernel.accessAllowed ? 'block' : 'none';\n",
              "\n",
              "        async function convertToInteractive(key) {\n",
              "          const element = document.querySelector('#df-2e12bcbe-bbfe-4d09-80fa-b4349c117591');\n",
              "          const dataTable =\n",
              "            await google.colab.kernel.invokeFunction('convertToInteractive',\n",
              "                                                     [key], {});\n",
              "          if (!dataTable) return;\n",
              "\n",
              "          const docLinkHtml = 'Like what you see? Visit the ' +\n",
              "            '<a target=\"_blank\" href=https://colab.research.google.com/notebooks/data_table.ipynb>data table notebook</a>'\n",
              "            + ' to learn more about interactive tables.';\n",
              "          element.innerHTML = '';\n",
              "          dataTable['output_type'] = 'display_data';\n",
              "          await google.colab.output.renderOutput(dataTable, element);\n",
              "          const docLink = document.createElement('div');\n",
              "          docLink.innerHTML = docLinkHtml;\n",
              "          element.appendChild(docLink);\n",
              "        }\n",
              "      </script>\n",
              "    </div>\n",
              "  </div>\n",
              "  "
            ]
          },
          "metadata": {},
          "execution_count": 57
        }
      ]
    },
    {
      "cell_type": "markdown",
      "source": [
        "<font color= 'black'>The book that received the most rating counts in this data set is Rich Shapero’s “Wild Animus”. And there is something in common among these five books that received the most rating counts — they are all novels. So it is conclusive that novels are popular and likely receive more ratings."
      ],
      "metadata": {
        "id": "VRytZ5lkXXt_"
      }
    },
    {
      "cell_type": "code",
      "source": [
        "# Create column Rating average \n",
        "ratings_explicit['Avg_Rating']=ratings_explicit.groupby('ISBN')['Book-Rating'].transform('mean')\n",
        "# Create column Rating sum\n",
        "ratings_explicit['Total_No_Of_Users_Rated']=ratings_explicit.groupby('ISBN')['Book-Rating'].transform('count')"
      ],
      "metadata": {
        "id": "IW3vupC3XVTx"
      },
      "execution_count": 58,
      "outputs": []
    },
    {
      "cell_type": "code",
      "source": [
        "ratings_explicit.head()"
      ],
      "metadata": {
        "colab": {
          "base_uri": "https://localhost:8080/",
          "height": 206
        },
        "id": "c6o9N382XZTq",
        "outputId": "98e090a7-a181-4110-f153-86ad289442fb"
      },
      "execution_count": 59,
      "outputs": [
        {
          "output_type": "execute_result",
          "data": {
            "text/plain": [
              "    User-ID        ISBN  Book-Rating  Avg_Rating  Total_No_Of_Users_Rated\n",
              "1    276726  0155061224            5    5.000000                        1\n",
              "3    276729  052165615X            3    3.000000                        1\n",
              "4    276729  0521795028            6    6.000000                        1\n",
              "8    276744  038550120X            7    7.580247                       81\n",
              "16   276747  0060517794            9    8.000000                       30"
            ],
            "text/html": [
              "\n",
              "  <div id=\"df-1908dc74-4d48-473a-b5af-3b21f4c2aa8f\">\n",
              "    <div class=\"colab-df-container\">\n",
              "      <div>\n",
              "<style scoped>\n",
              "    .dataframe tbody tr th:only-of-type {\n",
              "        vertical-align: middle;\n",
              "    }\n",
              "\n",
              "    .dataframe tbody tr th {\n",
              "        vertical-align: top;\n",
              "    }\n",
              "\n",
              "    .dataframe thead th {\n",
              "        text-align: right;\n",
              "    }\n",
              "</style>\n",
              "<table border=\"1\" class=\"dataframe\">\n",
              "  <thead>\n",
              "    <tr style=\"text-align: right;\">\n",
              "      <th></th>\n",
              "      <th>User-ID</th>\n",
              "      <th>ISBN</th>\n",
              "      <th>Book-Rating</th>\n",
              "      <th>Avg_Rating</th>\n",
              "      <th>Total_No_Of_Users_Rated</th>\n",
              "    </tr>\n",
              "  </thead>\n",
              "  <tbody>\n",
              "    <tr>\n",
              "      <th>1</th>\n",
              "      <td>276726</td>\n",
              "      <td>0155061224</td>\n",
              "      <td>5</td>\n",
              "      <td>5.000000</td>\n",
              "      <td>1</td>\n",
              "    </tr>\n",
              "    <tr>\n",
              "      <th>3</th>\n",
              "      <td>276729</td>\n",
              "      <td>052165615X</td>\n",
              "      <td>3</td>\n",
              "      <td>3.000000</td>\n",
              "      <td>1</td>\n",
              "    </tr>\n",
              "    <tr>\n",
              "      <th>4</th>\n",
              "      <td>276729</td>\n",
              "      <td>0521795028</td>\n",
              "      <td>6</td>\n",
              "      <td>6.000000</td>\n",
              "      <td>1</td>\n",
              "    </tr>\n",
              "    <tr>\n",
              "      <th>8</th>\n",
              "      <td>276744</td>\n",
              "      <td>038550120X</td>\n",
              "      <td>7</td>\n",
              "      <td>7.580247</td>\n",
              "      <td>81</td>\n",
              "    </tr>\n",
              "    <tr>\n",
              "      <th>16</th>\n",
              "      <td>276747</td>\n",
              "      <td>0060517794</td>\n",
              "      <td>9</td>\n",
              "      <td>8.000000</td>\n",
              "      <td>30</td>\n",
              "    </tr>\n",
              "  </tbody>\n",
              "</table>\n",
              "</div>\n",
              "      <button class=\"colab-df-convert\" onclick=\"convertToInteractive('df-1908dc74-4d48-473a-b5af-3b21f4c2aa8f')\"\n",
              "              title=\"Convert this dataframe to an interactive table.\"\n",
              "              style=\"display:none;\">\n",
              "        \n",
              "  <svg xmlns=\"http://www.w3.org/2000/svg\" height=\"24px\"viewBox=\"0 0 24 24\"\n",
              "       width=\"24px\">\n",
              "    <path d=\"M0 0h24v24H0V0z\" fill=\"none\"/>\n",
              "    <path d=\"M18.56 5.44l.94 2.06.94-2.06 2.06-.94-2.06-.94-.94-2.06-.94 2.06-2.06.94zm-11 1L8.5 8.5l.94-2.06 2.06-.94-2.06-.94L8.5 2.5l-.94 2.06-2.06.94zm10 10l.94 2.06.94-2.06 2.06-.94-2.06-.94-.94-2.06-.94 2.06-2.06.94z\"/><path d=\"M17.41 7.96l-1.37-1.37c-.4-.4-.92-.59-1.43-.59-.52 0-1.04.2-1.43.59L10.3 9.45l-7.72 7.72c-.78.78-.78 2.05 0 2.83L4 21.41c.39.39.9.59 1.41.59.51 0 1.02-.2 1.41-.59l7.78-7.78 2.81-2.81c.8-.78.8-2.07 0-2.86zM5.41 20L4 18.59l7.72-7.72 1.47 1.35L5.41 20z\"/>\n",
              "  </svg>\n",
              "      </button>\n",
              "      \n",
              "  <style>\n",
              "    .colab-df-container {\n",
              "      display:flex;\n",
              "      flex-wrap:wrap;\n",
              "      gap: 12px;\n",
              "    }\n",
              "\n",
              "    .colab-df-convert {\n",
              "      background-color: #E8F0FE;\n",
              "      border: none;\n",
              "      border-radius: 50%;\n",
              "      cursor: pointer;\n",
              "      display: none;\n",
              "      fill: #1967D2;\n",
              "      height: 32px;\n",
              "      padding: 0 0 0 0;\n",
              "      width: 32px;\n",
              "    }\n",
              "\n",
              "    .colab-df-convert:hover {\n",
              "      background-color: #E2EBFA;\n",
              "      box-shadow: 0px 1px 2px rgba(60, 64, 67, 0.3), 0px 1px 3px 1px rgba(60, 64, 67, 0.15);\n",
              "      fill: #174EA6;\n",
              "    }\n",
              "\n",
              "    [theme=dark] .colab-df-convert {\n",
              "      background-color: #3B4455;\n",
              "      fill: #D2E3FC;\n",
              "    }\n",
              "\n",
              "    [theme=dark] .colab-df-convert:hover {\n",
              "      background-color: #434B5C;\n",
              "      box-shadow: 0px 1px 3px 1px rgba(0, 0, 0, 0.15);\n",
              "      filter: drop-shadow(0px 1px 2px rgba(0, 0, 0, 0.3));\n",
              "      fill: #FFFFFF;\n",
              "    }\n",
              "  </style>\n",
              "\n",
              "      <script>\n",
              "        const buttonEl =\n",
              "          document.querySelector('#df-1908dc74-4d48-473a-b5af-3b21f4c2aa8f button.colab-df-convert');\n",
              "        buttonEl.style.display =\n",
              "          google.colab.kernel.accessAllowed ? 'block' : 'none';\n",
              "\n",
              "        async function convertToInteractive(key) {\n",
              "          const element = document.querySelector('#df-1908dc74-4d48-473a-b5af-3b21f4c2aa8f');\n",
              "          const dataTable =\n",
              "            await google.colab.kernel.invokeFunction('convertToInteractive',\n",
              "                                                     [key], {});\n",
              "          if (!dataTable) return;\n",
              "\n",
              "          const docLinkHtml = 'Like what you see? Visit the ' +\n",
              "            '<a target=\"_blank\" href=https://colab.research.google.com/notebooks/data_table.ipynb>data table notebook</a>'\n",
              "            + ' to learn more about interactive tables.';\n",
              "          element.innerHTML = '';\n",
              "          dataTable['output_type'] = 'display_data';\n",
              "          await google.colab.output.renderOutput(dataTable, element);\n",
              "          const docLink = document.createElement('div');\n",
              "          docLink.innerHTML = docLinkHtml;\n",
              "          element.appendChild(docLink);\n",
              "        }\n",
              "      </script>\n",
              "    </div>\n",
              "  </div>\n",
              "  "
            ]
          },
          "metadata": {},
          "execution_count": 59
        }
      ]
    },
    {
      "cell_type": "markdown",
      "source": [
        "#### <font color='darkblue'>**Merging All Dataset.**"
      ],
      "metadata": {
        "id": "lTK6fW8lXiYr"
      }
    },
    {
      "cell_type": "code",
      "source": [
        "Final_Dataset=users.copy()\n",
        "Final_Dataset=pd.merge(Final_Dataset,ratings_explicit,on='User-ID')\n",
        "Final_Dataset=pd.merge(Final_Dataset,books,on='ISBN')"
      ],
      "metadata": {
        "id": "8-mv_OOGXa_h"
      },
      "execution_count": 60,
      "outputs": []
    },
    {
      "cell_type": "code",
      "source": [
        "Final_Dataset.head()"
      ],
      "metadata": {
        "colab": {
          "base_uri": "https://localhost:8080/",
          "height": 206
        },
        "id": "39r2hbJgXlGA",
        "outputId": "a04a703c-bc16-4e7e-aa04-a939aeb7c101"
      },
      "execution_count": 61,
      "outputs": [
        {
          "output_type": "execute_result",
          "data": {
            "text/plain": [
              "   User-ID   Age Country        ISBN  Book-Rating  Avg_Rating  \\\n",
              "0        8  33.0  canada  0002005018            5    7.666667   \n",
              "1    11676  27.0     nan  0002005018            8    7.666667   \n",
              "2    67544  30.0  canada  0002005018            8    7.666667   \n",
              "3   116866  32.0   other  0002005018            9    7.666667   \n",
              "4   123629  33.0  canada  0002005018            9    7.666667   \n",
              "\n",
              "   Total_No_Of_Users_Rated    Book-Title           Book-Author  \\\n",
              "0                        9  Clara Callan  Richard Bruce Wright   \n",
              "1                        9  Clara Callan  Richard Bruce Wright   \n",
              "2                        9  Clara Callan  Richard Bruce Wright   \n",
              "3                        9  Clara Callan  Richard Bruce Wright   \n",
              "4                        9  Clara Callan  Richard Bruce Wright   \n",
              "\n",
              "   Year-Of-Publication              Publisher  \n",
              "0               2001.0  HarperFlamingo Canada  \n",
              "1               2001.0  HarperFlamingo Canada  \n",
              "2               2001.0  HarperFlamingo Canada  \n",
              "3               2001.0  HarperFlamingo Canada  \n",
              "4               2001.0  HarperFlamingo Canada  "
            ],
            "text/html": [
              "\n",
              "  <div id=\"df-e5e6aa49-452c-498c-9888-4c08ff770dc7\">\n",
              "    <div class=\"colab-df-container\">\n",
              "      <div>\n",
              "<style scoped>\n",
              "    .dataframe tbody tr th:only-of-type {\n",
              "        vertical-align: middle;\n",
              "    }\n",
              "\n",
              "    .dataframe tbody tr th {\n",
              "        vertical-align: top;\n",
              "    }\n",
              "\n",
              "    .dataframe thead th {\n",
              "        text-align: right;\n",
              "    }\n",
              "</style>\n",
              "<table border=\"1\" class=\"dataframe\">\n",
              "  <thead>\n",
              "    <tr style=\"text-align: right;\">\n",
              "      <th></th>\n",
              "      <th>User-ID</th>\n",
              "      <th>Age</th>\n",
              "      <th>Country</th>\n",
              "      <th>ISBN</th>\n",
              "      <th>Book-Rating</th>\n",
              "      <th>Avg_Rating</th>\n",
              "      <th>Total_No_Of_Users_Rated</th>\n",
              "      <th>Book-Title</th>\n",
              "      <th>Book-Author</th>\n",
              "      <th>Year-Of-Publication</th>\n",
              "      <th>Publisher</th>\n",
              "    </tr>\n",
              "  </thead>\n",
              "  <tbody>\n",
              "    <tr>\n",
              "      <th>0</th>\n",
              "      <td>8</td>\n",
              "      <td>33.0</td>\n",
              "      <td>canada</td>\n",
              "      <td>0002005018</td>\n",
              "      <td>5</td>\n",
              "      <td>7.666667</td>\n",
              "      <td>9</td>\n",
              "      <td>Clara Callan</td>\n",
              "      <td>Richard Bruce Wright</td>\n",
              "      <td>2001.0</td>\n",
              "      <td>HarperFlamingo Canada</td>\n",
              "    </tr>\n",
              "    <tr>\n",
              "      <th>1</th>\n",
              "      <td>11676</td>\n",
              "      <td>27.0</td>\n",
              "      <td>nan</td>\n",
              "      <td>0002005018</td>\n",
              "      <td>8</td>\n",
              "      <td>7.666667</td>\n",
              "      <td>9</td>\n",
              "      <td>Clara Callan</td>\n",
              "      <td>Richard Bruce Wright</td>\n",
              "      <td>2001.0</td>\n",
              "      <td>HarperFlamingo Canada</td>\n",
              "    </tr>\n",
              "    <tr>\n",
              "      <th>2</th>\n",
              "      <td>67544</td>\n",
              "      <td>30.0</td>\n",
              "      <td>canada</td>\n",
              "      <td>0002005018</td>\n",
              "      <td>8</td>\n",
              "      <td>7.666667</td>\n",
              "      <td>9</td>\n",
              "      <td>Clara Callan</td>\n",
              "      <td>Richard Bruce Wright</td>\n",
              "      <td>2001.0</td>\n",
              "      <td>HarperFlamingo Canada</td>\n",
              "    </tr>\n",
              "    <tr>\n",
              "      <th>3</th>\n",
              "      <td>116866</td>\n",
              "      <td>32.0</td>\n",
              "      <td>other</td>\n",
              "      <td>0002005018</td>\n",
              "      <td>9</td>\n",
              "      <td>7.666667</td>\n",
              "      <td>9</td>\n",
              "      <td>Clara Callan</td>\n",
              "      <td>Richard Bruce Wright</td>\n",
              "      <td>2001.0</td>\n",
              "      <td>HarperFlamingo Canada</td>\n",
              "    </tr>\n",
              "    <tr>\n",
              "      <th>4</th>\n",
              "      <td>123629</td>\n",
              "      <td>33.0</td>\n",
              "      <td>canada</td>\n",
              "      <td>0002005018</td>\n",
              "      <td>9</td>\n",
              "      <td>7.666667</td>\n",
              "      <td>9</td>\n",
              "      <td>Clara Callan</td>\n",
              "      <td>Richard Bruce Wright</td>\n",
              "      <td>2001.0</td>\n",
              "      <td>HarperFlamingo Canada</td>\n",
              "    </tr>\n",
              "  </tbody>\n",
              "</table>\n",
              "</div>\n",
              "      <button class=\"colab-df-convert\" onclick=\"convertToInteractive('df-e5e6aa49-452c-498c-9888-4c08ff770dc7')\"\n",
              "              title=\"Convert this dataframe to an interactive table.\"\n",
              "              style=\"display:none;\">\n",
              "        \n",
              "  <svg xmlns=\"http://www.w3.org/2000/svg\" height=\"24px\"viewBox=\"0 0 24 24\"\n",
              "       width=\"24px\">\n",
              "    <path d=\"M0 0h24v24H0V0z\" fill=\"none\"/>\n",
              "    <path d=\"M18.56 5.44l.94 2.06.94-2.06 2.06-.94-2.06-.94-.94-2.06-.94 2.06-2.06.94zm-11 1L8.5 8.5l.94-2.06 2.06-.94-2.06-.94L8.5 2.5l-.94 2.06-2.06.94zm10 10l.94 2.06.94-2.06 2.06-.94-2.06-.94-.94-2.06-.94 2.06-2.06.94z\"/><path d=\"M17.41 7.96l-1.37-1.37c-.4-.4-.92-.59-1.43-.59-.52 0-1.04.2-1.43.59L10.3 9.45l-7.72 7.72c-.78.78-.78 2.05 0 2.83L4 21.41c.39.39.9.59 1.41.59.51 0 1.02-.2 1.41-.59l7.78-7.78 2.81-2.81c.8-.78.8-2.07 0-2.86zM5.41 20L4 18.59l7.72-7.72 1.47 1.35L5.41 20z\"/>\n",
              "  </svg>\n",
              "      </button>\n",
              "      \n",
              "  <style>\n",
              "    .colab-df-container {\n",
              "      display:flex;\n",
              "      flex-wrap:wrap;\n",
              "      gap: 12px;\n",
              "    }\n",
              "\n",
              "    .colab-df-convert {\n",
              "      background-color: #E8F0FE;\n",
              "      border: none;\n",
              "      border-radius: 50%;\n",
              "      cursor: pointer;\n",
              "      display: none;\n",
              "      fill: #1967D2;\n",
              "      height: 32px;\n",
              "      padding: 0 0 0 0;\n",
              "      width: 32px;\n",
              "    }\n",
              "\n",
              "    .colab-df-convert:hover {\n",
              "      background-color: #E2EBFA;\n",
              "      box-shadow: 0px 1px 2px rgba(60, 64, 67, 0.3), 0px 1px 3px 1px rgba(60, 64, 67, 0.15);\n",
              "      fill: #174EA6;\n",
              "    }\n",
              "\n",
              "    [theme=dark] .colab-df-convert {\n",
              "      background-color: #3B4455;\n",
              "      fill: #D2E3FC;\n",
              "    }\n",
              "\n",
              "    [theme=dark] .colab-df-convert:hover {\n",
              "      background-color: #434B5C;\n",
              "      box-shadow: 0px 1px 3px 1px rgba(0, 0, 0, 0.15);\n",
              "      filter: drop-shadow(0px 1px 2px rgba(0, 0, 0, 0.3));\n",
              "      fill: #FFFFFF;\n",
              "    }\n",
              "  </style>\n",
              "\n",
              "      <script>\n",
              "        const buttonEl =\n",
              "          document.querySelector('#df-e5e6aa49-452c-498c-9888-4c08ff770dc7 button.colab-df-convert');\n",
              "        buttonEl.style.display =\n",
              "          google.colab.kernel.accessAllowed ? 'block' : 'none';\n",
              "\n",
              "        async function convertToInteractive(key) {\n",
              "          const element = document.querySelector('#df-e5e6aa49-452c-498c-9888-4c08ff770dc7');\n",
              "          const dataTable =\n",
              "            await google.colab.kernel.invokeFunction('convertToInteractive',\n",
              "                                                     [key], {});\n",
              "          if (!dataTable) return;\n",
              "\n",
              "          const docLinkHtml = 'Like what you see? Visit the ' +\n",
              "            '<a target=\"_blank\" href=https://colab.research.google.com/notebooks/data_table.ipynb>data table notebook</a>'\n",
              "            + ' to learn more about interactive tables.';\n",
              "          element.innerHTML = '';\n",
              "          dataTable['output_type'] = 'display_data';\n",
              "          await google.colab.output.renderOutput(dataTable, element);\n",
              "          const docLink = document.createElement('div');\n",
              "          docLink.innerHTML = docLinkHtml;\n",
              "          element.appendChild(docLink);\n",
              "        }\n",
              "      </script>\n",
              "    </div>\n",
              "  </div>\n",
              "  "
            ]
          },
          "metadata": {},
          "execution_count": 61
        }
      ]
    },
    {
      "cell_type": "code",
      "source": [
        "missing_values(Final_Dataset)"
      ],
      "metadata": {
        "colab": {
          "base_uri": "https://localhost:8080/",
          "height": 394
        },
        "id": "ZG0WNaeFXnI4",
        "outputId": "3dc8b0bd-76f2-4ff8-edb4-fb89377f7e44"
      },
      "execution_count": 62,
      "outputs": [
        {
          "output_type": "execute_result",
          "data": {
            "text/plain": [
              "                      index  Missing Values  % of Total Values Data_type\n",
              "0                   User-ID               0                0.0     int64\n",
              "1                       Age               0                0.0   float64\n",
              "2                   Country               0                0.0    object\n",
              "3                      ISBN               0                0.0    object\n",
              "4               Book-Rating               0                0.0     int64\n",
              "5                Avg_Rating               0                0.0   float64\n",
              "6   Total_No_Of_Users_Rated               0                0.0     int64\n",
              "7                Book-Title               0                0.0    object\n",
              "8               Book-Author               0                0.0    object\n",
              "9       Year-Of-Publication               0                0.0   float64\n",
              "10                Publisher               0                0.0    object"
            ],
            "text/html": [
              "\n",
              "  <div id=\"df-8149ea30-9f36-4c86-b49a-4aa6655a7af1\">\n",
              "    <div class=\"colab-df-container\">\n",
              "      <div>\n",
              "<style scoped>\n",
              "    .dataframe tbody tr th:only-of-type {\n",
              "        vertical-align: middle;\n",
              "    }\n",
              "\n",
              "    .dataframe tbody tr th {\n",
              "        vertical-align: top;\n",
              "    }\n",
              "\n",
              "    .dataframe thead th {\n",
              "        text-align: right;\n",
              "    }\n",
              "</style>\n",
              "<table border=\"1\" class=\"dataframe\">\n",
              "  <thead>\n",
              "    <tr style=\"text-align: right;\">\n",
              "      <th></th>\n",
              "      <th>index</th>\n",
              "      <th>Missing Values</th>\n",
              "      <th>% of Total Values</th>\n",
              "      <th>Data_type</th>\n",
              "    </tr>\n",
              "  </thead>\n",
              "  <tbody>\n",
              "    <tr>\n",
              "      <th>0</th>\n",
              "      <td>User-ID</td>\n",
              "      <td>0</td>\n",
              "      <td>0.0</td>\n",
              "      <td>int64</td>\n",
              "    </tr>\n",
              "    <tr>\n",
              "      <th>1</th>\n",
              "      <td>Age</td>\n",
              "      <td>0</td>\n",
              "      <td>0.0</td>\n",
              "      <td>float64</td>\n",
              "    </tr>\n",
              "    <tr>\n",
              "      <th>2</th>\n",
              "      <td>Country</td>\n",
              "      <td>0</td>\n",
              "      <td>0.0</td>\n",
              "      <td>object</td>\n",
              "    </tr>\n",
              "    <tr>\n",
              "      <th>3</th>\n",
              "      <td>ISBN</td>\n",
              "      <td>0</td>\n",
              "      <td>0.0</td>\n",
              "      <td>object</td>\n",
              "    </tr>\n",
              "    <tr>\n",
              "      <th>4</th>\n",
              "      <td>Book-Rating</td>\n",
              "      <td>0</td>\n",
              "      <td>0.0</td>\n",
              "      <td>int64</td>\n",
              "    </tr>\n",
              "    <tr>\n",
              "      <th>5</th>\n",
              "      <td>Avg_Rating</td>\n",
              "      <td>0</td>\n",
              "      <td>0.0</td>\n",
              "      <td>float64</td>\n",
              "    </tr>\n",
              "    <tr>\n",
              "      <th>6</th>\n",
              "      <td>Total_No_Of_Users_Rated</td>\n",
              "      <td>0</td>\n",
              "      <td>0.0</td>\n",
              "      <td>int64</td>\n",
              "    </tr>\n",
              "    <tr>\n",
              "      <th>7</th>\n",
              "      <td>Book-Title</td>\n",
              "      <td>0</td>\n",
              "      <td>0.0</td>\n",
              "      <td>object</td>\n",
              "    </tr>\n",
              "    <tr>\n",
              "      <th>8</th>\n",
              "      <td>Book-Author</td>\n",
              "      <td>0</td>\n",
              "      <td>0.0</td>\n",
              "      <td>object</td>\n",
              "    </tr>\n",
              "    <tr>\n",
              "      <th>9</th>\n",
              "      <td>Year-Of-Publication</td>\n",
              "      <td>0</td>\n",
              "      <td>0.0</td>\n",
              "      <td>float64</td>\n",
              "    </tr>\n",
              "    <tr>\n",
              "      <th>10</th>\n",
              "      <td>Publisher</td>\n",
              "      <td>0</td>\n",
              "      <td>0.0</td>\n",
              "      <td>object</td>\n",
              "    </tr>\n",
              "  </tbody>\n",
              "</table>\n",
              "</div>\n",
              "      <button class=\"colab-df-convert\" onclick=\"convertToInteractive('df-8149ea30-9f36-4c86-b49a-4aa6655a7af1')\"\n",
              "              title=\"Convert this dataframe to an interactive table.\"\n",
              "              style=\"display:none;\">\n",
              "        \n",
              "  <svg xmlns=\"http://www.w3.org/2000/svg\" height=\"24px\"viewBox=\"0 0 24 24\"\n",
              "       width=\"24px\">\n",
              "    <path d=\"M0 0h24v24H0V0z\" fill=\"none\"/>\n",
              "    <path d=\"M18.56 5.44l.94 2.06.94-2.06 2.06-.94-2.06-.94-.94-2.06-.94 2.06-2.06.94zm-11 1L8.5 8.5l.94-2.06 2.06-.94-2.06-.94L8.5 2.5l-.94 2.06-2.06.94zm10 10l.94 2.06.94-2.06 2.06-.94-2.06-.94-.94-2.06-.94 2.06-2.06.94z\"/><path d=\"M17.41 7.96l-1.37-1.37c-.4-.4-.92-.59-1.43-.59-.52 0-1.04.2-1.43.59L10.3 9.45l-7.72 7.72c-.78.78-.78 2.05 0 2.83L4 21.41c.39.39.9.59 1.41.59.51 0 1.02-.2 1.41-.59l7.78-7.78 2.81-2.81c.8-.78.8-2.07 0-2.86zM5.41 20L4 18.59l7.72-7.72 1.47 1.35L5.41 20z\"/>\n",
              "  </svg>\n",
              "      </button>\n",
              "      \n",
              "  <style>\n",
              "    .colab-df-container {\n",
              "      display:flex;\n",
              "      flex-wrap:wrap;\n",
              "      gap: 12px;\n",
              "    }\n",
              "\n",
              "    .colab-df-convert {\n",
              "      background-color: #E8F0FE;\n",
              "      border: none;\n",
              "      border-radius: 50%;\n",
              "      cursor: pointer;\n",
              "      display: none;\n",
              "      fill: #1967D2;\n",
              "      height: 32px;\n",
              "      padding: 0 0 0 0;\n",
              "      width: 32px;\n",
              "    }\n",
              "\n",
              "    .colab-df-convert:hover {\n",
              "      background-color: #E2EBFA;\n",
              "      box-shadow: 0px 1px 2px rgba(60, 64, 67, 0.3), 0px 1px 3px 1px rgba(60, 64, 67, 0.15);\n",
              "      fill: #174EA6;\n",
              "    }\n",
              "\n",
              "    [theme=dark] .colab-df-convert {\n",
              "      background-color: #3B4455;\n",
              "      fill: #D2E3FC;\n",
              "    }\n",
              "\n",
              "    [theme=dark] .colab-df-convert:hover {\n",
              "      background-color: #434B5C;\n",
              "      box-shadow: 0px 1px 3px 1px rgba(0, 0, 0, 0.15);\n",
              "      filter: drop-shadow(0px 1px 2px rgba(0, 0, 0, 0.3));\n",
              "      fill: #FFFFFF;\n",
              "    }\n",
              "  </style>\n",
              "\n",
              "      <script>\n",
              "        const buttonEl =\n",
              "          document.querySelector('#df-8149ea30-9f36-4c86-b49a-4aa6655a7af1 button.colab-df-convert');\n",
              "        buttonEl.style.display =\n",
              "          google.colab.kernel.accessAllowed ? 'block' : 'none';\n",
              "\n",
              "        async function convertToInteractive(key) {\n",
              "          const element = document.querySelector('#df-8149ea30-9f36-4c86-b49a-4aa6655a7af1');\n",
              "          const dataTable =\n",
              "            await google.colab.kernel.invokeFunction('convertToInteractive',\n",
              "                                                     [key], {});\n",
              "          if (!dataTable) return;\n",
              "\n",
              "          const docLinkHtml = 'Like what you see? Visit the ' +\n",
              "            '<a target=\"_blank\" href=https://colab.research.google.com/notebooks/data_table.ipynb>data table notebook</a>'\n",
              "            + ' to learn more about interactive tables.';\n",
              "          element.innerHTML = '';\n",
              "          dataTable['output_type'] = 'display_data';\n",
              "          await google.colab.output.renderOutput(dataTable, element);\n",
              "          const docLink = document.createElement('div');\n",
              "          docLink.innerHTML = docLinkHtml;\n",
              "          element.appendChild(docLink);\n",
              "        }\n",
              "      </script>\n",
              "    </div>\n",
              "  </div>\n",
              "  "
            ]
          },
          "metadata": {},
          "execution_count": 62
        }
      ]
    },
    {
      "cell_type": "code",
      "source": [
        "Final_Dataset.shape"
      ],
      "metadata": {
        "colab": {
          "base_uri": "https://localhost:8080/"
        },
        "id": "iZ8taUC6Xpco",
        "outputId": "0672e87a-9930-4492-d61b-d9134481ee41"
      },
      "execution_count": 63,
      "outputs": [
        {
          "output_type": "execute_result",
          "data": {
            "text/plain": [
              "(383842, 11)"
            ]
          },
          "metadata": {},
          "execution_count": 63
        }
      ]
    },
    {
      "cell_type": "markdown",
      "source": [
        "# <font color='darkblue'>**Popularity Based Filtering**"
      ],
      "metadata": {
        "id": "fnd5A42kX16Y"
      }
    },
    {
      "cell_type": "markdown",
      "source": [
        "<font color='black'>As the name suggests Popularity based recommendation system works with the trend. It basically uses the items which are in trend right now. For example, if any book which is usually bought by every new user then there are chances that it may suggest that book to the user who just signed up.<br>\n",
        "Book weighted avg formula:<br>\n",
        "Weighted Rating(WR)=[vR/(v+m)]+[mC/(v+m)]<br>\n",
        "where,<br>\n",
        "v is the number of votes for the books;<br>\n",
        "m is the minimum votes required to be listed in the chart;<br>\n",
        "R is the average rating of the book; and<br>\n",
        "C is the mean vote across the whole report.<br>\n",
        "Now we find the values of v,m,R,C."
      ],
      "metadata": {
        "id": "Cc3ekx1bX1_2"
      }
    },
    {
      "cell_type": "code",
      "source": [
        "C= Final_Dataset['Avg_Rating'].mean()\n",
        "m= Final_Dataset['Total_No_Of_Users_Rated'].quantile(0.90)\n",
        "Top_Books = Final_Dataset.loc[Final_Dataset['Total_No_Of_Users_Rated'] >= m]\n",
        "print(f'C={C} , m={m}')\n",
        "Top_Books.shape"
      ],
      "metadata": {
        "colab": {
          "base_uri": "https://localhost:8080/"
        },
        "id": "_lFB9eZTXqmx",
        "outputId": "59a2f925-d3ba-4eb0-b23b-ed1008308c26"
      },
      "execution_count": 64,
      "outputs": [
        {
          "output_type": "stream",
          "name": "stdout",
          "text": [
            "C=7.626700569504765 , m=64.0\n"
          ]
        },
        {
          "output_type": "execute_result",
          "data": {
            "text/plain": [
              "(38570, 11)"
            ]
          },
          "metadata": {},
          "execution_count": 64
        }
      ]
    },
    {
      "cell_type": "markdown",
      "source": [
        "<font color='black'>Here we used 90th percentile as our cutoff. In other words, for a book to feature in the charts, it must have more votes than at least 90% of the books in the list.<br>\n",
        "We see that there are 38570 books which qualify to be in this list. Now, we need to calculate our metric for each qualified book. To do this, we will define a function, weighted_rating() and define a new feature score, of which we’ll calculate the value by applying this function to our DataFrame of qualified books:\n"
      ],
      "metadata": {
        "id": "iggnxnyQX7-c"
      }
    },
    {
      "cell_type": "code",
      "source": [
        "def weighted_rating(x, m=m, C=C):\n",
        "    v = x['Total_No_Of_Users_Rated']\n",
        "    R = x['Avg_Rating']\n",
        "    return (v/(v+m) * R) + (m/(m+v) * C)\n",
        "    \n",
        " \n",
        "Top_Books['Score'] = Top_Books.apply(weighted_rating,axis=1)\n",
        " \n",
        " \n",
        "#Sorting books based on score calculated above\n",
        "Top_Books = Top_Books.sort_values('Score', ascending=False)"
      ],
      "metadata": {
        "id": "VcqCqk1WX6XK"
      },
      "execution_count": 65,
      "outputs": []
    },
    {
      "cell_type": "code",
      "source": [
        "#Keeping only one entry of each book\n",
        "Top_Books=Top_Books.sort_values('Score', ascending=False).drop_duplicates('ISBN').sort_index()\n",
        "cm=sns.light_palette('yellow',as_cmap=True)\n",
        "#Sorting books based on score calculated above\n",
        "Top_Books = Top_Books.sort_values('Score', ascending=False)\n",
        "\n",
        "#Printing the top 20 books\n",
        "Top_Books[['Book-Title', 'Total_No_Of_Users_Rated', 'Avg_Rating', 'Score']].reset_index(drop=True).head(20).style.background_gradient(cmap=cm)"
      ],
      "metadata": {
        "colab": {
          "base_uri": "https://localhost:8080/",
          "height": 676
        },
        "id": "dHjjzkdZX-Ep",
        "outputId": "3b9e7e64-4467-4ba7-a058-d099d994ce66"
      },
      "execution_count": 66,
      "outputs": [
        {
          "output_type": "execute_result",
          "data": {
            "text/plain": [
              "<pandas.io.formats.style.Styler at 0x7f9aa9a189d0>"
            ],
            "text/html": [
              "<style type=\"text/css\">\n",
              "#T_a0a69_row0_col1 {\n",
              "  background-color: #f6f69f;\n",
              "  color: #000000;\n",
              "}\n",
              "#T_a0a69_row0_col2 {\n",
              "  background-color: #fdfd27;\n",
              "  color: #000000;\n",
              "}\n",
              "#T_a0a69_row0_col3, #T_a0a69_row1_col1, #T_a0a69_row5_col2 {\n",
              "  background-color: #ffff00;\n",
              "  color: #000000;\n",
              "}\n",
              "#T_a0a69_row1_col2 {\n",
              "  background-color: #f7f781;\n",
              "  color: #000000;\n",
              "}\n",
              "#T_a0a69_row1_col3 {\n",
              "  background-color: #fefe0e;\n",
              "  color: #000000;\n",
              "}\n",
              "#T_a0a69_row2_col1 {\n",
              "  background-color: #f9f960;\n",
              "  color: #000000;\n",
              "}\n",
              "#T_a0a69_row2_col2, #T_a0a69_row6_col2, #T_a0a69_row15_col1 {\n",
              "  background-color: #f9f966;\n",
              "  color: #000000;\n",
              "}\n",
              "#T_a0a69_row2_col3 {\n",
              "  background-color: #fefe17;\n",
              "  color: #000000;\n",
              "}\n",
              "#T_a0a69_row3_col1, #T_a0a69_row4_col2 {\n",
              "  background-color: #fafa59;\n",
              "  color: #000000;\n",
              "}\n",
              "#T_a0a69_row3_col2 {\n",
              "  background-color: #f8f880;\n",
              "  color: #000000;\n",
              "}\n",
              "#T_a0a69_row3_col3 {\n",
              "  background-color: #fcfc38;\n",
              "  color: #000000;\n",
              "}\n",
              "#T_a0a69_row4_col1 {\n",
              "  background-color: #f5f5a3;\n",
              "  color: #000000;\n",
              "}\n",
              "#T_a0a69_row4_col3 {\n",
              "  background-color: #fbfb4a;\n",
              "  color: #000000;\n",
              "}\n",
              "#T_a0a69_row5_col1 {\n",
              "  background-color: #f2f2d5;\n",
              "  color: #000000;\n",
              "}\n",
              "#T_a0a69_row5_col3, #T_a0a69_row6_col3 {\n",
              "  background-color: #fafa52;\n",
              "  color: #000000;\n",
              "}\n",
              "#T_a0a69_row6_col1 {\n",
              "  background-color: #f6f69b;\n",
              "  color: #000000;\n",
              "}\n",
              "#T_a0a69_row7_col1 {\n",
              "  background-color: #f5f5af;\n",
              "  color: #000000;\n",
              "}\n",
              "#T_a0a69_row7_col2 {\n",
              "  background-color: #f8f875;\n",
              "  color: #000000;\n",
              "}\n",
              "#T_a0a69_row7_col3 {\n",
              "  background-color: #f7f783;\n",
              "  color: #000000;\n",
              "}\n",
              "#T_a0a69_row8_col1 {\n",
              "  background-color: #f8f870;\n",
              "  color: #000000;\n",
              "}\n",
              "#T_a0a69_row8_col2 {\n",
              "  background-color: #f5f5ad;\n",
              "  color: #000000;\n",
              "}\n",
              "#T_a0a69_row8_col3 {\n",
              "  background-color: #f7f78d;\n",
              "  color: #000000;\n",
              "}\n",
              "#T_a0a69_row9_col1 {\n",
              "  background-color: #f5f5a9;\n",
              "  color: #000000;\n",
              "}\n",
              "#T_a0a69_row9_col2, #T_a0a69_row19_col1 {\n",
              "  background-color: #f7f786;\n",
              "  color: #000000;\n",
              "}\n",
              "#T_a0a69_row9_col3 {\n",
              "  background-color: #f7f790;\n",
              "  color: #000000;\n",
              "}\n",
              "#T_a0a69_row10_col1 {\n",
              "  background-color: #f3f3d0;\n",
              "  color: #000000;\n",
              "}\n",
              "#T_a0a69_row10_col2 {\n",
              "  background-color: #fafa4e;\n",
              "  color: #000000;\n",
              "}\n",
              "#T_a0a69_row10_col3 {\n",
              "  background-color: #f6f699;\n",
              "  color: #000000;\n",
              "}\n",
              "#T_a0a69_row11_col1 {\n",
              "  background-color: #f4f4b8;\n",
              "  color: #000000;\n",
              "}\n",
              "#T_a0a69_row11_col2 {\n",
              "  background-color: #f8f87d;\n",
              "  color: #000000;\n",
              "}\n",
              "#T_a0a69_row11_col3 {\n",
              "  background-color: #f6f69a;\n",
              "  color: #000000;\n",
              "}\n",
              "#T_a0a69_row12_col1 {\n",
              "  background-color: #f5f5a5;\n",
              "  color: #000000;\n",
              "}\n",
              "#T_a0a69_row12_col2, #T_a0a69_row14_col2 {\n",
              "  background-color: #f6f69d;\n",
              "  color: #000000;\n",
              "}\n",
              "#T_a0a69_row12_col3 {\n",
              "  background-color: #f5f5a8;\n",
              "  color: #000000;\n",
              "}\n",
              "#T_a0a69_row13_col1 {\n",
              "  background-color: #f7f789;\n",
              "  color: #000000;\n",
              "}\n",
              "#T_a0a69_row13_col2 {\n",
              "  background-color: #f4f4b9;\n",
              "  color: #000000;\n",
              "}\n",
              "#T_a0a69_row13_col3 {\n",
              "  background-color: #f5f5b3;\n",
              "  color: #000000;\n",
              "}\n",
              "#T_a0a69_row14_col1 {\n",
              "  background-color: #f5f5b1;\n",
              "  color: #000000;\n",
              "}\n",
              "#T_a0a69_row14_col3 {\n",
              "  background-color: #f4f4bb;\n",
              "  color: #000000;\n",
              "}\n",
              "#T_a0a69_row15_col2, #T_a0a69_row18_col3 {\n",
              "  background-color: #f2f2dc;\n",
              "  color: #000000;\n",
              "}\n",
              "#T_a0a69_row15_col3 {\n",
              "  background-color: #f3f3ce;\n",
              "  color: #000000;\n",
              "}\n",
              "#T_a0a69_row16_col1, #T_a0a69_row18_col2, #T_a0a69_row19_col3 {\n",
              "  background-color: #f2f2dd;\n",
              "  color: #000000;\n",
              "}\n",
              "#T_a0a69_row16_col2 {\n",
              "  background-color: #fafa5b;\n",
              "  color: #000000;\n",
              "}\n",
              "#T_a0a69_row16_col3 {\n",
              "  background-color: #f3f3cf;\n",
              "  color: #000000;\n",
              "}\n",
              "#T_a0a69_row17_col1 {\n",
              "  background-color: #f2f2d7;\n",
              "  color: #000000;\n",
              "}\n",
              "#T_a0a69_row17_col2 {\n",
              "  background-color: #f8f878;\n",
              "  color: #000000;\n",
              "}\n",
              "#T_a0a69_row17_col3 {\n",
              "  background-color: #f2f2da;\n",
              "  color: #000000;\n",
              "}\n",
              "#T_a0a69_row18_col1 {\n",
              "  background-color: #f8f877;\n",
              "  color: #000000;\n",
              "}\n",
              "#T_a0a69_row19_col2 {\n",
              "  background-color: #f2f2d8;\n",
              "  color: #000000;\n",
              "}\n",
              "</style>\n",
              "<table id=\"T_a0a69_\" class=\"dataframe\">\n",
              "  <thead>\n",
              "    <tr>\n",
              "      <th class=\"blank level0\" >&nbsp;</th>\n",
              "      <th class=\"col_heading level0 col0\" >Book-Title</th>\n",
              "      <th class=\"col_heading level0 col1\" >Total_No_Of_Users_Rated</th>\n",
              "      <th class=\"col_heading level0 col2\" >Avg_Rating</th>\n",
              "      <th class=\"col_heading level0 col3\" >Score</th>\n",
              "    </tr>\n",
              "  </thead>\n",
              "  <tbody>\n",
              "    <tr>\n",
              "      <th id=\"T_a0a69_level0_row0\" class=\"row_heading level0 row0\" >0</th>\n",
              "      <td id=\"T_a0a69_row0_col0\" class=\"data row0 col0\" >Harry Potter and the Goblet of Fire (Book 4)</td>\n",
              "      <td id=\"T_a0a69_row0_col1\" class=\"data row0 col1\" >137</td>\n",
              "      <td id=\"T_a0a69_row0_col2\" class=\"data row0 col2\" >9.262774</td>\n",
              "      <td id=\"T_a0a69_row0_col3\" class=\"data row0 col3\" >8.741835</td>\n",
              "    </tr>\n",
              "    <tr>\n",
              "      <th id=\"T_a0a69_level0_row1\" class=\"row_heading level0 row1\" >1</th>\n",
              "      <td id=\"T_a0a69_row1_col0\" class=\"data row1 col0\" >Harry Potter and the Sorcerer's Stone (Harry Potter (Paperback))</td>\n",
              "      <td id=\"T_a0a69_row1_col1\" class=\"data row1 col1\" >313</td>\n",
              "      <td id=\"T_a0a69_row1_col2\" class=\"data row1 col2\" >8.939297</td>\n",
              "      <td id=\"T_a0a69_row1_col3\" class=\"data row1 col3\" >8.716469</td>\n",
              "    </tr>\n",
              "    <tr>\n",
              "      <th id=\"T_a0a69_level0_row2\" class=\"row_heading level0 row2\" >2</th>\n",
              "      <td id=\"T_a0a69_row2_col0\" class=\"data row2 col0\" >Harry Potter and the Order of the Phoenix (Book 5)</td>\n",
              "      <td id=\"T_a0a69_row2_col1\" class=\"data row2 col1\" >206</td>\n",
              "      <td id=\"T_a0a69_row2_col2\" class=\"data row2 col2\" >9.033981</td>\n",
              "      <td id=\"T_a0a69_row2_col3\" class=\"data row2 col3\" >8.700403</td>\n",
              "    </tr>\n",
              "    <tr>\n",
              "      <th id=\"T_a0a69_level0_row3\" class=\"row_heading level0 row3\" >3</th>\n",
              "      <td id=\"T_a0a69_row3_col0\" class=\"data row3 col0\" >To Kill a Mockingbird</td>\n",
              "      <td id=\"T_a0a69_row3_col1\" class=\"data row3 col1\" >214</td>\n",
              "      <td id=\"T_a0a69_row3_col2\" class=\"data row3 col2\" >8.943925</td>\n",
              "      <td id=\"T_a0a69_row3_col3\" class=\"data row3 col3\" >8.640679</td>\n",
              "    </tr>\n",
              "    <tr>\n",
              "      <th id=\"T_a0a69_level0_row4\" class=\"row_heading level0 row4\" >4</th>\n",
              "      <td id=\"T_a0a69_row4_col0\" class=\"data row4 col0\" >Harry Potter and the Prisoner of Azkaban (Book 3)</td>\n",
              "      <td id=\"T_a0a69_row4_col1\" class=\"data row4 col1\" >133</td>\n",
              "      <td id=\"T_a0a69_row4_col2\" class=\"data row4 col2\" >9.082707</td>\n",
              "      <td id=\"T_a0a69_row4_col3\" class=\"data row4 col3\" >8.609690</td>\n",
              "    </tr>\n",
              "    <tr>\n",
              "      <th id=\"T_a0a69_level0_row5\" class=\"row_heading level0 row5\" >5</th>\n",
              "      <td id=\"T_a0a69_row5_col0\" class=\"data row5 col0\" >The Return of the King (The Lord of the Rings, Part 3)</td>\n",
              "      <td id=\"T_a0a69_row5_col1\" class=\"data row5 col1\" >77</td>\n",
              "      <td id=\"T_a0a69_row5_col2\" class=\"data row5 col2\" >9.402597</td>\n",
              "      <td id=\"T_a0a69_row5_col3\" class=\"data row5 col3\" >8.596517</td>\n",
              "    </tr>\n",
              "    <tr>\n",
              "      <th id=\"T_a0a69_level0_row6\" class=\"row_heading level0 row6\" >6</th>\n",
              "      <td id=\"T_a0a69_row6_col0\" class=\"data row6 col0\" >Harry Potter and the Prisoner of Azkaban (Book 3)</td>\n",
              "      <td id=\"T_a0a69_row6_col1\" class=\"data row6 col1\" >141</td>\n",
              "      <td id=\"T_a0a69_row6_col2\" class=\"data row6 col2\" >9.035461</td>\n",
              "      <td id=\"T_a0a69_row6_col3\" class=\"data row6 col3\" >8.595653</td>\n",
              "    </tr>\n",
              "    <tr>\n",
              "      <th id=\"T_a0a69_level0_row7\" class=\"row_heading level0 row7\" >7</th>\n",
              "      <td id=\"T_a0a69_row7_col0\" class=\"data row7 col0\" >Harry Potter and the Sorcerer's Stone (Book 1)</td>\n",
              "      <td id=\"T_a0a69_row7_col1\" class=\"data row7 col1\" >119</td>\n",
              "      <td id=\"T_a0a69_row7_col2\" class=\"data row7 col2\" >8.983193</td>\n",
              "      <td id=\"T_a0a69_row7_col3\" class=\"data row7 col3\" >8.508791</td>\n",
              "    </tr>\n",
              "    <tr>\n",
              "      <th id=\"T_a0a69_level0_row8\" class=\"row_heading level0 row8\" >8</th>\n",
              "      <td id=\"T_a0a69_row8_col0\" class=\"data row8 col0\" >Harry Potter and the Chamber of Secrets (Book 2)</td>\n",
              "      <td id=\"T_a0a69_row8_col1\" class=\"data row8 col1\" >189</td>\n",
              "      <td id=\"T_a0a69_row8_col2\" class=\"data row8 col2\" >8.783069</td>\n",
              "      <td id=\"T_a0a69_row8_col3\" class=\"data row8 col3\" >8.490549</td>\n",
              "    </tr>\n",
              "    <tr>\n",
              "      <th id=\"T_a0a69_level0_row9\" class=\"row_heading level0 row9\" >9</th>\n",
              "      <td id=\"T_a0a69_row9_col0\" class=\"data row9 col0\" >Harry Potter and the Chamber of Secrets (Book 2)</td>\n",
              "      <td id=\"T_a0a69_row9_col1\" class=\"data row9 col1\" >126</td>\n",
              "      <td id=\"T_a0a69_row9_col2\" class=\"data row9 col2\" >8.920635</td>\n",
              "      <td id=\"T_a0a69_row9_col3\" class=\"data row9 col3\" >8.484783</td>\n",
              "    </tr>\n",
              "    <tr>\n",
              "      <th id=\"T_a0a69_level0_row10\" class=\"row_heading level0 row10\" >10</th>\n",
              "      <td id=\"T_a0a69_row10_col0\" class=\"data row10 col0\" >The Two Towers (The Lord of the Rings, Part 2)</td>\n",
              "      <td id=\"T_a0a69_row10_col1\" class=\"data row10 col1\" >83</td>\n",
              "      <td id=\"T_a0a69_row10_col2\" class=\"data row10 col2\" >9.120482</td>\n",
              "      <td id=\"T_a0a69_row10_col3\" class=\"data row10 col3\" >8.470128</td>\n",
              "    </tr>\n",
              "    <tr>\n",
              "      <th id=\"T_a0a69_level0_row11\" class=\"row_heading level0 row11\" >11</th>\n",
              "      <td id=\"T_a0a69_row11_col0\" class=\"data row11 col0\" >Harry Potter and the Goblet of Fire (Book 4)</td>\n",
              "      <td id=\"T_a0a69_row11_col1\" class=\"data row11 col1\" >110</td>\n",
              "      <td id=\"T_a0a69_row11_col2\" class=\"data row11 col2\" >8.954545</td>\n",
              "      <td id=\"T_a0a69_row11_col3\" class=\"data row11 col3\" >8.466143</td>\n",
              "    </tr>\n",
              "    <tr>\n",
              "      <th id=\"T_a0a69_level0_row12\" class=\"row_heading level0 row12\" >12</th>\n",
              "      <td id=\"T_a0a69_row12_col0\" class=\"data row12 col0\" >The Fellowship of the Ring (The Lord of the Rings, Part 1)</td>\n",
              "      <td id=\"T_a0a69_row12_col1\" class=\"data row12 col1\" >131</td>\n",
              "      <td id=\"T_a0a69_row12_col2\" class=\"data row12 col2\" >8.839695</td>\n",
              "      <td id=\"T_a0a69_row12_col3\" class=\"data row12 col3\" >8.441584</td>\n",
              "    </tr>\n",
              "    <tr>\n",
              "      <th id=\"T_a0a69_level0_row13\" class=\"row_heading level0 row13\" >13</th>\n",
              "      <td id=\"T_a0a69_row13_col0\" class=\"data row13 col0\" >The Hobbit : The Enchanting Prelude to The Lord of the Rings</td>\n",
              "      <td id=\"T_a0a69_row13_col1\" class=\"data row13 col1\" >161</td>\n",
              "      <td id=\"T_a0a69_row13_col2\" class=\"data row13 col2\" >8.739130</td>\n",
              "      <td id=\"T_a0a69_row13_col3\" class=\"data row13 col3\" >8.422706</td>\n",
              "    </tr>\n",
              "    <tr>\n",
              "      <th id=\"T_a0a69_level0_row14\" class=\"row_heading level0 row14\" >14</th>\n",
              "      <td id=\"T_a0a69_row14_col0\" class=\"data row14 col0\" >Ender's Game (Ender Wiggins Saga (Paperback))</td>\n",
              "      <td id=\"T_a0a69_row14_col1\" class=\"data row14 col1\" >117</td>\n",
              "      <td id=\"T_a0a69_row14_col2\" class=\"data row14 col2\" >8.837607</td>\n",
              "      <td id=\"T_a0a69_row14_col3\" class=\"data row14 col3\" >8.409441</td>\n",
              "    </tr>\n",
              "    <tr>\n",
              "      <th id=\"T_a0a69_level0_row15\" class=\"row_heading level0 row15\" >15</th>\n",
              "      <td id=\"T_a0a69_row15_col0\" class=\"data row15 col0\" >Tuesdays with Morrie: An Old Man, a Young Man, and Life's Greatest Lesson</td>\n",
              "      <td id=\"T_a0a69_row15_col1\" class=\"data row15 col1\" >200</td>\n",
              "      <td id=\"T_a0a69_row15_col2\" class=\"data row15 col2\" >8.615000</td>\n",
              "      <td id=\"T_a0a69_row15_col3\" class=\"data row15 col3\" >8.375412</td>\n",
              "    </tr>\n",
              "    <tr>\n",
              "      <th id=\"T_a0a69_level0_row16\" class=\"row_heading level0 row16\" >16</th>\n",
              "      <td id=\"T_a0a69_row16_col0\" class=\"data row16 col0\" >Charlotte's Web (Trophy Newbery)</td>\n",
              "      <td id=\"T_a0a69_row16_col1\" class=\"data row16 col1\" >68</td>\n",
              "      <td id=\"T_a0a69_row16_col2\" class=\"data row16 col2\" >9.073529</td>\n",
              "      <td id=\"T_a0a69_row16_col3\" class=\"data row16 col3\" >8.372037</td>\n",
              "    </tr>\n",
              "    <tr>\n",
              "      <th id=\"T_a0a69_level0_row17\" class=\"row_heading level0 row17\" >17</th>\n",
              "      <td id=\"T_a0a69_row17_col0\" class=\"data row17 col0\" >Dune (Remembering Tomorrow)</td>\n",
              "      <td id=\"T_a0a69_row17_col1\" class=\"data row17 col1\" >75</td>\n",
              "      <td id=\"T_a0a69_row17_col2\" class=\"data row17 col2\" >8.973333</td>\n",
              "      <td id=\"T_a0a69_row17_col3\" class=\"data row17 col3\" >8.353301</td>\n",
              "    </tr>\n",
              "    <tr>\n",
              "      <th id=\"T_a0a69_level0_row18\" class=\"row_heading level0 row18\" >18</th>\n",
              "      <td id=\"T_a0a69_row18_col0\" class=\"data row18 col0\" >A Prayer for Owen Meany</td>\n",
              "      <td id=\"T_a0a69_row18_col1\" class=\"data row18 col1\" >181</td>\n",
              "      <td id=\"T_a0a69_row18_col2\" class=\"data row18 col2\" >8.607735</td>\n",
              "      <td id=\"T_a0a69_row18_col3\" class=\"data row18 col3\" >8.351465</td>\n",
              "    </tr>\n",
              "    <tr>\n",
              "      <th id=\"T_a0a69_level0_row19\" class=\"row_heading level0 row19\" >19</th>\n",
              "      <td id=\"T_a0a69_row19_col0\" class=\"data row19 col0\" >Fahrenheit 451</td>\n",
              "      <td id=\"T_a0a69_row19_col1\" class=\"data row19 col1\" >164</td>\n",
              "      <td id=\"T_a0a69_row19_col2\" class=\"data row19 col2\" >8.628049</td>\n",
              "      <td id=\"T_a0a69_row19_col3\" class=\"data row19 col3\" >8.346969</td>\n",
              "    </tr>\n",
              "  </tbody>\n",
              "</table>\n"
            ]
          },
          "metadata": {},
          "execution_count": 66
        }
      ]
    },
    {
      "cell_type": "markdown",
      "source": [
        "<font color='black'>The Popularity based recommender provide a general chart of recommended books to all the users. They are not sensitive to the interests and tastes of a particular user."
      ],
      "metadata": {
        "id": "zAT2oS3oYBra"
      }
    },
    {
      "cell_type": "markdown",
      "source": [
        "![image.png](data:image/png;base64,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)"
      ],
      "metadata": {
        "id": "EMd7YT9mYB0W"
      }
    },
    {
      "cell_type": "markdown",
      "source": [
        "## <font color='darkblue'>**Model Based Collaborative Filtering Recommender**\n",
        "<font color='black'>The goal of the recommender system is to predict user preference for a set of items based on the past experience. Two the most popular approaches are Content-Based and Collaborative Filtering.\n",
        "<br>Collaborative filtering is a technique used by websites like Amazon, YouTube, and Netflix. It filters out items that a user might like on the basis of reactions of similar users. There are two categories of collaborative filtering algorithms: memory based and model based.\n",
        "<br>\n",
        "Model based approach involves building machine learning algorithms to predict user's ratings. They involve dimensionality reduction methods that reduce high dimensional matrix containing abundant number of missing values with a much smaller matrix in lower-dimensional space.\n",
        "<br>\n",
        "The goal of this section is to compare SVD and NMF algorithms, try different configurations of parameters and explore obtained results."
      ],
      "metadata": {
        "id": "WlVQdryQYK2p"
      }
    },
    {
      "cell_type": "code",
      "source": [
        "import scipy\n",
        "import math\n",
        "import sklearn\n",
        "from nltk.corpus import stopwords\n",
        "from sklearn.model_selection import train_test_split\n",
        "from sklearn.feature_extraction.text import TfidfVectorizer\n",
        "from sklearn.metrics.pairwise import cosine_similarity\n",
        "from scipy.sparse.linalg import svds\n",
        "import matplotlib.pyplot as plt"
      ],
      "metadata": {
        "id": "DW3pElUzX_yK"
      },
      "execution_count": 67,
      "outputs": []
    },
    {
      "cell_type": "markdown",
      "source": [
        "<font color='black'>This analysis will focus on book recommendations based on Book-Crossing dataset. To reduce the dimensionality of the dataset and avoid running into memory error we will focus on users with at least 3 ratings and top 10% most frequently rated books. \n",
        "<br>\n",
        "The recommender systems will be built using surprise package (Matrix Factorization - based models)."
      ],
      "metadata": {
        "id": "nM3jGrO_YRF2"
      }
    },
    {
      "cell_type": "code",
      "source": [
        "ratings_explicit.rename(columns = {'User-ID':'user_id' ,'ISBN':'isbn' ,'Book-Rating':'book_rating'},inplace=True)"
      ],
      "metadata": {
        "id": "nWkX8I02YPYx"
      },
      "execution_count": 68,
      "outputs": []
    },
    {
      "cell_type": "code",
      "source": [
        "user_ratings_threshold = 3\n",
        "\n",
        "filter_users = ratings_explicit['user_id'].value_counts()\n",
        "filter_users_list = filter_users[filter_users >= user_ratings_threshold].index.to_list()\n",
        "\n",
        "df_ratings_top = ratings_explicit[ratings_explicit['user_id'].isin(filter_users_list)]\n",
        "\n",
        "print('Filter: users with at least %d ratings\\nNumber of records: %d' % (user_ratings_threshold, len(df_ratings_top)))"
      ],
      "metadata": {
        "colab": {
          "base_uri": "https://localhost:8080/"
        },
        "id": "XijdmzVUYTHw",
        "outputId": "afaec700-a292-4e97-c030-1fb2a37e471d"
      },
      "execution_count": 69,
      "outputs": [
        {
          "output_type": "stream",
          "name": "stdout",
          "text": [
            "Filter: users with at least 3 ratings\n",
            "Number of records: 327271\n"
          ]
        }
      ]
    },
    {
      "cell_type": "code",
      "source": [
        "book_ratings_threshold_perc = 0.1\n",
        "book_ratings_threshold = len(df_ratings_top['isbn'].unique()) * book_ratings_threshold_perc\n",
        "\n",
        "filter_books_list = df_ratings_top['isbn'].value_counts().head(int(book_ratings_threshold)).index.to_list()\n",
        "df_ratings_top = df_ratings_top[df_ratings_top['isbn'].isin(filter_books_list)]\n",
        "\n",
        "print('Filter: top %d%% most frequently rated books\\nNumber of records: %d' % (book_ratings_threshold_perc*100, len(df_ratings_top)))"
      ],
      "metadata": {
        "colab": {
          "base_uri": "https://localhost:8080/"
        },
        "id": "bodrDpidYUYg",
        "outputId": "5c1cc8ad-542b-4aca-b640-137e11163274"
      },
      "execution_count": 71,
      "outputs": [
        {
          "output_type": "stream",
          "name": "stdout",
          "text": [
            "Filter: top 10% most frequently rated books\n",
            "Number of records: 64086\n"
          ]
        }
      ]
    },
    {
      "cell_type": "markdown",
      "source": [
        "<font color='black'>SVD and NMF models comparison<br>\n",
        "Singular Value Decomposition (SVD) and Non-negative Matrix Factorization (NMF) are matrix factorization techniques used for dimensionality reduction. Surprise package provides implementation of those algorithms.\n"
      ],
      "metadata": {
        "id": "jqw28txYYbPP"
      }
    },
    {
      "cell_type": "code",
      "source": [
        "pip install surprise"
      ],
      "metadata": {
        "colab": {
          "base_uri": "https://localhost:8080/"
        },
        "id": "f4jcXu1xYXhy",
        "outputId": "bc863385-87be-4e74-8f68-87cdfa65a69c"
      },
      "execution_count": 72,
      "outputs": [
        {
          "output_type": "stream",
          "name": "stdout",
          "text": [
            "Looking in indexes: https://pypi.org/simple, https://us-python.pkg.dev/colab-wheels/public/simple/\n",
            "Collecting surprise\n",
            "  Downloading surprise-0.1-py2.py3-none-any.whl (1.8 kB)\n",
            "Requirement already satisfied: scikit-surprise in /usr/local/lib/python3.7/dist-packages (from surprise) (1.1.1)\n",
            "Requirement already satisfied: six>=1.10.0 in /usr/local/lib/python3.7/dist-packages (from scikit-surprise->surprise) (1.15.0)\n",
            "Requirement already satisfied: numpy>=1.11.2 in /usr/local/lib/python3.7/dist-packages (from scikit-surprise->surprise) (1.21.6)\n",
            "Requirement already satisfied: joblib>=0.11 in /usr/local/lib/python3.7/dist-packages (from scikit-surprise->surprise) (1.1.0)\n",
            "Requirement already satisfied: scipy>=1.0.0 in /usr/local/lib/python3.7/dist-packages (from scikit-surprise->surprise) (1.4.1)\n",
            "Installing collected packages: surprise\n",
            "Successfully installed surprise-0.1\n"
          ]
        }
      ]
    },
    {
      "cell_type": "code",
      "source": [
        "from surprise import Dataset, Reader\n",
        "from surprise import SVD, NMF\n",
        "from surprise.model_selection import cross_validate, train_test_split, GridSearchCV"
      ],
      "metadata": {
        "id": "DmaGQC1iYc2A"
      },
      "execution_count": 73,
      "outputs": []
    },
    {
      "cell_type": "code",
      "source": [
        "df=df_ratings_top.copy()\n",
        "reader = Reader(rating_scale=(1, 10))\n",
        "data = Dataset.load_from_df(df[['user_id', 'isbn', 'book_rating']], reader)"
      ],
      "metadata": {
        "id": "XX_QJU6lYehg"
      },
      "execution_count": 74,
      "outputs": []
    },
    {
      "cell_type": "code",
      "source": [
        "model_svd = SVD()\n",
        "cv_results_svd = cross_validate(model_svd, data, cv=3)\n",
        "pd.DataFrame(cv_results_svd).mean()"
      ],
      "metadata": {
        "colab": {
          "base_uri": "https://localhost:8080/"
        },
        "id": "7lLeaXSlYgXQ",
        "outputId": "fc0450b4-fd59-4eee-b715-1436c52d6a9b"
      },
      "execution_count": 75,
      "outputs": [
        {
          "output_type": "execute_result",
          "data": {
            "text/plain": [
              "test_rmse    1.621620\n",
              "test_mae     1.258324\n",
              "fit_time     6.738426\n",
              "test_time    0.454199\n",
              "dtype: float64"
            ]
          },
          "metadata": {},
          "execution_count": 75
        }
      ]
    },
    {
      "cell_type": "code",
      "source": [
        "model_nmf = NMF()\n",
        "cv_results_nmf = cross_validate(model_nmf, data, cv=3)\n",
        "pd.DataFrame(cv_results_nmf).mean()"
      ],
      "metadata": {
        "colab": {
          "base_uri": "https://localhost:8080/"
        },
        "id": "NfLq5_d-Yh0b",
        "outputId": "be230c38-d53f-4aba-ec1c-fc83ead225ed"
      },
      "execution_count": 76,
      "outputs": [
        {
          "output_type": "execute_result",
          "data": {
            "text/plain": [
              "test_rmse    2.591981\n",
              "test_mae     2.208129\n",
              "fit_time     4.573204\n",
              "test_time    0.318970\n",
              "dtype: float64"
            ]
          },
          "metadata": {},
          "execution_count": 76
        }
      ]
    },
    {
      "cell_type": "markdown",
      "source": [
        "<font color='black'>\n",
        "It's clear that for the given dataset much better results can be obtained with SVD approach - both in terms of accuracy and training / testing time."
      ],
      "metadata": {
        "id": "91iSw-tmYoGj"
      }
    },
    {
      "cell_type": "markdown",
      "source": [
        ""
      ],
      "metadata": {
        "id": "4gNqBHzfYoMD"
      }
    },
    {
      "cell_type": "code",
      "source": [
        ""
      ],
      "metadata": {
        "id": "jgVo6PELYlHg"
      },
      "execution_count": null,
      "outputs": []
    }
  ]
}